{
 "cells": [
  {
   "cell_type": "code",
   "execution_count": 24,
   "id": "b9a82b8d",
   "metadata": {},
   "outputs": [
    {
     "name": "stdout",
     "output_type": "stream",
     "text": [
      "Requirement already satisfied: snntorch in /home/aditya/Downloads/python-atari/atari-py/lib/python3.13/site-packages (0.9.4)\n",
      "Requirement already satisfied: torch in /home/aditya/Downloads/python-atari/atari-py/lib/python3.13/site-packages (2.7.1)\n",
      "Requirement already satisfied: torchvision in /home/aditya/Downloads/python-atari/atari-py/lib/python3.13/site-packages (0.22.1)\n",
      "Requirement already satisfied: matplotlib in /home/aditya/Downloads/python-atari/atari-py/lib/python3.13/site-packages (3.10.3)\n",
      "Requirement already satisfied: tqdm in /home/aditya/Downloads/python-atari/atari-py/lib/python3.13/site-packages (4.67.1)\n",
      "Requirement already satisfied: filelock in /home/aditya/Downloads/python-atari/atari-py/lib/python3.13/site-packages (from torch) (3.18.0)\n",
      "Requirement already satisfied: typing-extensions>=4.10.0 in /home/aditya/Downloads/python-atari/atari-py/lib/python3.13/site-packages (from torch) (4.13.2)\n",
      "Requirement already satisfied: setuptools in /home/aditya/Downloads/python-atari/atari-py/lib/python3.13/site-packages (from torch) (80.9.0)\n",
      "Requirement already satisfied: sympy>=1.13.3 in /home/aditya/Downloads/python-atari/atari-py/lib/python3.13/site-packages (from torch) (1.14.0)\n",
      "Requirement already satisfied: networkx in /home/aditya/Downloads/python-atari/atari-py/lib/python3.13/site-packages (from torch) (3.5)\n",
      "Requirement already satisfied: jinja2 in /home/aditya/Downloads/python-atari/atari-py/lib/python3.13/site-packages (from torch) (3.1.6)\n",
      "Requirement already satisfied: fsspec in /home/aditya/Downloads/python-atari/atari-py/lib/python3.13/site-packages (from torch) (2025.5.1)\n",
      "Requirement already satisfied: nvidia-cuda-nvrtc-cu12==12.6.77 in /home/aditya/Downloads/python-atari/atari-py/lib/python3.13/site-packages (from torch) (12.6.77)\n",
      "Requirement already satisfied: nvidia-cuda-runtime-cu12==12.6.77 in /home/aditya/Downloads/python-atari/atari-py/lib/python3.13/site-packages (from torch) (12.6.77)\n",
      "Requirement already satisfied: nvidia-cuda-cupti-cu12==12.6.80 in /home/aditya/Downloads/python-atari/atari-py/lib/python3.13/site-packages (from torch) (12.6.80)\n",
      "Requirement already satisfied: nvidia-cudnn-cu12==9.5.1.17 in /home/aditya/Downloads/python-atari/atari-py/lib/python3.13/site-packages (from torch) (9.5.1.17)\n",
      "Requirement already satisfied: nvidia-cublas-cu12==12.6.4.1 in /home/aditya/Downloads/python-atari/atari-py/lib/python3.13/site-packages (from torch) (12.6.4.1)\n",
      "Requirement already satisfied: nvidia-cufft-cu12==11.3.0.4 in /home/aditya/Downloads/python-atari/atari-py/lib/python3.13/site-packages (from torch) (11.3.0.4)\n",
      "Requirement already satisfied: nvidia-curand-cu12==10.3.7.77 in /home/aditya/Downloads/python-atari/atari-py/lib/python3.13/site-packages (from torch) (10.3.7.77)\n",
      "Requirement already satisfied: nvidia-cusolver-cu12==11.7.1.2 in /home/aditya/Downloads/python-atari/atari-py/lib/python3.13/site-packages (from torch) (11.7.1.2)\n",
      "Requirement already satisfied: nvidia-cusparse-cu12==12.5.4.2 in /home/aditya/Downloads/python-atari/atari-py/lib/python3.13/site-packages (from torch) (12.5.4.2)\n",
      "Requirement already satisfied: nvidia-cusparselt-cu12==0.6.3 in /home/aditya/Downloads/python-atari/atari-py/lib/python3.13/site-packages (from torch) (0.6.3)\n",
      "Requirement already satisfied: nvidia-nccl-cu12==2.26.2 in /home/aditya/Downloads/python-atari/atari-py/lib/python3.13/site-packages (from torch) (2.26.2)\n",
      "Requirement already satisfied: nvidia-nvtx-cu12==12.6.77 in /home/aditya/Downloads/python-atari/atari-py/lib/python3.13/site-packages (from torch) (12.6.77)\n",
      "Requirement already satisfied: nvidia-nvjitlink-cu12==12.6.85 in /home/aditya/Downloads/python-atari/atari-py/lib/python3.13/site-packages (from torch) (12.6.85)\n",
      "Requirement already satisfied: nvidia-cufile-cu12==1.11.1.6 in /home/aditya/Downloads/python-atari/atari-py/lib/python3.13/site-packages (from torch) (1.11.1.6)\n",
      "Requirement already satisfied: triton==3.3.1 in /home/aditya/Downloads/python-atari/atari-py/lib/python3.13/site-packages (from torch) (3.3.1)\n",
      "Requirement already satisfied: numpy in /home/aditya/Downloads/python-atari/atari-py/lib/python3.13/site-packages (from torchvision) (2.2.6)\n",
      "Requirement already satisfied: pillow!=8.3.*,>=5.3.0 in /home/aditya/Downloads/python-atari/atari-py/lib/python3.13/site-packages (from torchvision) (11.2.1)\n",
      "Requirement already satisfied: contourpy>=1.0.1 in /home/aditya/Downloads/python-atari/atari-py/lib/python3.13/site-packages (from matplotlib) (1.3.2)\n",
      "Requirement already satisfied: cycler>=0.10 in /home/aditya/Downloads/python-atari/atari-py/lib/python3.13/site-packages (from matplotlib) (0.12.1)\n",
      "Requirement already satisfied: fonttools>=4.22.0 in /home/aditya/Downloads/python-atari/atari-py/lib/python3.13/site-packages (from matplotlib) (4.58.1)\n",
      "Requirement already satisfied: kiwisolver>=1.3.1 in /home/aditya/Downloads/python-atari/atari-py/lib/python3.13/site-packages (from matplotlib) (1.4.8)\n",
      "Requirement already satisfied: packaging>=20.0 in /home/aditya/Downloads/python-atari/atari-py/lib/python3.13/site-packages (from matplotlib) (25.0)\n",
      "Requirement already satisfied: pyparsing>=2.3.1 in /home/aditya/Downloads/python-atari/atari-py/lib/python3.13/site-packages (from matplotlib) (3.2.3)\n",
      "Requirement already satisfied: python-dateutil>=2.7 in /home/aditya/Downloads/python-atari/atari-py/lib/python3.13/site-packages (from matplotlib) (2.9.0.post0)\n",
      "Requirement already satisfied: six>=1.5 in /home/aditya/Downloads/python-atari/atari-py/lib/python3.13/site-packages (from python-dateutil>=2.7->matplotlib) (1.17.0)\n",
      "Requirement already satisfied: mpmath<1.4,>=1.1.0 in /home/aditya/Downloads/python-atari/atari-py/lib/python3.13/site-packages (from sympy>=1.13.3->torch) (1.3.0)\n",
      "Requirement already satisfied: MarkupSafe>=2.0 in /home/aditya/Downloads/python-atari/atari-py/lib/python3.13/site-packages (from jinja2->torch) (3.0.2)\n",
      "Note: you may need to restart the kernel to use updated packages.\n"
     ]
    }
   ],
   "source": [
    "%pip install snntorch torch torchvision matplotlib tqdm"
   ]
  },
  {
   "cell_type": "markdown",
   "id": "e95bd5bd",
   "metadata": {},
   "source": [
    "### Task 1: Data Preprocessing (Spike Encoding)"
   ]
  },
  {
   "cell_type": "markdown",
   "id": "a3039f8e",
   "metadata": {},
   "source": [
    "#### 1.Download and preprocess the MNIST dataset."
   ]
  },
  {
   "cell_type": "markdown",
   "id": "69f248bd",
   "metadata": {},
   "source": [
    "+ Here I'm using SNNTORCH library developed by SNN researcher [Jason Eshraghian](https://www.jasoneshraghian.com/)\n",
    "\n",
    "+ At first we'll import the required libraries\n",
    "\n",
    "+ <span style=\"color:yellow\"> Here the matplotlib.animation is added to visualize the spike trains later...\n",
    "</span>\n"
   ]
  },
  {
   "cell_type": "code",
   "execution_count": 25,
   "id": "af2ffef4",
   "metadata": {},
   "outputs": [],
   "source": [
    "import snntorch as snn\n",
    "import snntorch.functional as SF\n",
    "import snntorch.surrogate as surrogate\n",
    "from snntorch import spikegen\n",
    "import torch.nn as nn\n",
    "import torch\n",
    "import torch.nn as nn\n",
    "import torchvision\n",
    "import torchvision.transforms as transforms\n",
    "import matplotlib.pyplot as plt\n",
    "import matplotlib.animation as animation"
   ]
  },
  {
   "cell_type": "markdown",
   "id": "49b6ba63",
   "metadata": {},
   "source": [
    "+ No GPU for me :P\n",
    "and that won't matter mostly as SNN is a third gen computing and requires very low energy and is robust on CPU as well..\n",
    "I'm using the Rate Method instead of temporal method. DOing Poisson rate encoding for 100 steps slows down the training process...\n",
    "\n",
    "+ I've used random seed 42 (the classic..)"
   ]
  },
  {
   "cell_type": "code",
   "execution_count": 26,
   "id": "434bca2d",
   "metadata": {},
   "outputs": [],
   "source": [
    "import numpy as np\n",
    "np.random.seed(42)\n",
    "device = torch.device(\"cuda\" if torch.cuda.is_available() else \"cpu\")\n"
   ]
  },
  {
   "cell_type": "markdown",
   "id": "878500c4",
   "metadata": {},
   "source": [
    ">As mentioned earlier.. rate encoding steps are taken to be 10\n",
    "\n",
    "\n",
    " (more the merrier but training time increases dramatically)\n",
    "\n",
    "\n",
    "the 60,000 MNIST image datasets would be trained in batches of 128\n"
   ]
  },
  {
   "cell_type": "code",
   "execution_count": 27,
   "id": "063b64e0",
   "metadata": {},
   "outputs": [],
   "source": [
    "num_steps = 10\n",
    "num_epochs=5       # Time steps for spike simulation\n",
    "batch_size = 128\n",
    "learning_rate = 1e-3\n",
    "num_classes = 10 # constant for this problem.. classes being labels from 0 to 9 (both inclusive)\n"
   ]
  },
  {
   "cell_type": "markdown",
   "id": "0ce832a2",
   "metadata": {},
   "source": [
    "+ Here we are importing MNIST images dataset in .data folder for training (60,000) and testing (10,000)\n",
    "\n",
    "+ I am using torch dataset and transforms provided by pytorch as it has the compose method which makes all the preprocessing code fit in one line"
   ]
  },
  {
   "cell_type": "code",
   "execution_count": 28,
   "id": "68f91706",
   "metadata": {},
   "outputs": [],
   "source": [
    "transform = transforms.Compose([transforms.ToTensor()])\n",
    "\n",
    "train_data = torchvision.datasets.MNIST(root='./data', train=True, transform=transform, download=True)\n",
    "test_data = torchvision.datasets.MNIST(root='./data', train=False, transform=transform)\n",
    "\n",
    "train_loader = torch.utils.data.DataLoader(train_data, batch_size=batch_size, shuffle=True)\n",
    "test_loader = torch.utils.data.DataLoader(test_data, batch_size=batch_size, shuffle=False)\n"
   ]
  },
  {
   "cell_type": "markdown",
   "id": "12385644",
   "metadata": {},
   "source": [
    "#### 2.Implement Poisson rate coding to convert pixel intensities into spike trains. Higher pixel intensities should correspond to higher firing rates."
   ]
  },
  {
   "cell_type": "markdown",
   "id": "4cd31c6f",
   "metadata": {},
   "source": [
    ">This is a crazy thing and crux of our model so We'll read and explain this carefully:\n",
    "\n",
    "+ First of all we input images and num_steps to the function to give us a tensor \n",
    "'(num_steps,batch_size,1,28,28)'  \n",
    "+ <span style=\"color:orange\"><em>\n",
    "This type of tensor size would make sense after visualizing it</em></span>\n",
    "+ All it does is,\n",
    "  + it input an image batch of batch size being primitive size of image tensor input.\n",
    " Hence we use `batch_size = images.shape[0]`\n",
    "  + then for an image of size 28x28, it creates a tensor of size num_stepsx28x28 for each pixel in any image.. its intensity determines the rate at which a spike is fired (Again, if this is harder to grab.. see the visualization part)\n"
   ]
  },
  {
   "cell_type": "code",
   "execution_count": 29,
   "id": "77398ba9",
   "metadata": {},
   "outputs": [],
   "source": [
    "def poisson_spike_encoding(images, num_steps=100):\n",
    "\n",
    "    batch_size = images.shape[0]\n",
    "    image_shape = images.shape[1:]\n",
    "    \n",
    "    rand_vals = torch.rand((num_steps, batch_size, *image_shape), device=images.device)\n",
    "    spike_trains = rand_vals < images.unsqueeze(0)\n",
    "    \n",
    "    return spike_trains.float()\n"
   ]
  },
  {
   "cell_type": "markdown",
   "id": "c6fe3b26",
   "metadata": {},
   "source": [
    "#### 3.Visualize sample input spike patterns for various digits to verify that encoding is working correctly."
   ]
  },
  {
   "cell_type": "markdown",
   "id": "40b136d8",
   "metadata": {},
   "source": [
    "**I have loaded an MNIST image of class 1  to give some insights**\n",
    "Also I've plotted the cell grid in MNIST to see the image as a grid of pixel intenities in blue colour because the black one would've overlapped"
   ]
  },
  {
   "cell_type": "code",
   "execution_count": 30,
   "id": "fd3aeb57",
   "metadata": {},
   "outputs": [
    {
     "data": {
      "image/png": "[encoded data removed]",
      "text/plain": [
       "<Figure size 600x600 with 1 Axes>"
      ]
     },
     "metadata": {},
     "output_type": "display_data"
    }
   ],
   "source": [
    "choice=1\n",
    "dataiter = iter(train_loader)\n",
    "images, labels = next(dataiter)\n",
    "images, labels = images.to(device), labels.to(device)\n",
    "zero_index = (labels == choice).nonzero(as_tuple=True)[0][0]\n",
    "image_zero = images[zero_index].unsqueeze(0)  \n",
    "\n",
    "\n",
    "fig, ax = plt.subplots(figsize=(6, 6))\n",
    "image_data = image_zero[0, 0].cpu().numpy()\n",
    "table = ax.imshow(image_data, cmap='Blues', vmin=0, vmax=1)\n",
    "\n",
    "# Adding to show all the pixel values as text on a grid like strudcture\n",
    "for i in range(28):\n",
    "    for j in range(28):\n",
    "        val = image_data[i, j]\n",
    "        ax.text(j, i, f\"{val:.2f}\", ha=\"center\", va=\"center\",\n",
    "                color=\"white\" if val > 0.5 else \"black\", fontsize=5)\n",
    "\n",
    "ax.set_title(\"Digit: 1 - Pixel Intensities\")\n",
    "ax.axis('off')\n",
    "plt.show()"
   ]
  },
  {
   "cell_type": "markdown",
   "id": "67b09021",
   "metadata": {},
   "source": [
    "+ Loads digit 1 image from MNIST data set and performs poisson encoding on it..\n",
    "+ We use digit 1 because most of bright pixels are located at middle column hence if we arrange the 28x28 array as a 1-D 784 array.. we get a bright pixel periodically with period 28..\n",
    "+ Now when we plot the poisson spike train... we see the claim that for 10 time steps... the pixels after 150 fire almost always with period of 28 (as every 28th pixel is brigh in image of 1)"
   ]
  },
  {
   "cell_type": "code",
   "execution_count": 31,
   "id": "470eb94c",
   "metadata": {},
   "outputs": [
    {
     "data": {
      "image/png": "[encoded data removed]",
      "text/plain": [
       "<Figure size 1000x400 with 1 Axes>"
      ]
     },
     "metadata": {},
     "output_type": "display_data"
    }
   ],
   "source": [
    "# Generate possion spikes for digit one\n",
    "spike_trains = poisson_spike_encoding(image_zero, num_steps=num_steps)  # shape: (num_steps, 1, 1, 28, 28) as explained above\n",
    "\n",
    "# Plot spike analysis for digit 1..\n",
    "fig, ax = plt.subplots(figsize=(10, 4))\n",
    "raster = spike_trains[:, 0, 0].reshape(num_steps, -1).cpu().numpy()\n",
    "ax.imshow(raster, cmap='Greys', aspect='auto')\n",
    "ax.set_title(\"Poisson Spikes for Digit: \" + str(choice))\n",
    "ax.set_xlabel(\"Flattened Pixel Index\")\n",
    "ax.set_ylabel(\"Time Step\")\n",
    "plt.show()\n"
   ]
  },
  {
   "cell_type": "code",
   "execution_count": 32,
   "id": "49ed1ee1",
   "metadata": {},
   "outputs": [
    {
     "data": {
      "image/gif": "[encoded data removed]",
      "text/plain": [
       "<IPython.core.display.Image object>"
      ]
     },
     "metadata": {},
     "output_type": "display_data"
    }
   ],
   "source": [
    "from IPython.display import Image, display\n",
    "\n",
    "spikes = spike_trains[:, 0, 0].cpu().numpy()  # (num_steps, 28, 28)\n",
    "\n",
    "fig, ax = plt.subplots(figsize=(4, 4))\n",
    "im = ax.imshow(spikes[0], cmap='gray', vmin=0, vmax=1)\n",
    "ax.axis('off')\n",
    "\n",
    "def update(t):\n",
    "    im.set_array(spikes[t])\n",
    "    ax.set_title(f'Time Step: {t}')\n",
    "    return [im]\n",
    "\n",
    "ani = animation.FuncAnimation(fig, update, frames=num_steps, interval=50, blit=True)\n",
    "\n",
    "# Save GIF locally and also to display it in notebook\n",
    "gif_path = \"mnist_spike_flash.gif\"\n",
    "ani.save(gif_path, writer='pillow', fps=5)\n",
    "plt.close(fig)\n",
    "\n",
    "# display inline in notebook!\n",
    "display(Image(filename=gif_path))"
   ]
  },
  {
   "cell_type": "markdown",
   "id": "4da5d089",
   "metadata": {},
   "source": [
    "+ This is a simulation of how the network sees the image as spike table.. the boundary pixels flicker because their intensity is around 0.7-0.8 but the middle pixels never flicker as they are extremely bright and are fired everytime."
   ]
  },
  {
   "cell_type": "markdown",
   "id": "9b51864b",
   "metadata": {},
   "source": [
    "### Task 2: SNN Model Implementation (all done in same codeblock)"
   ]
  },
  {
   "cell_type": "markdown",
   "id": "7c3f7603",
   "metadata": {},
   "source": [
    "#### 1.Design a 3-layer SNN architecture:\n"
   ]
  },
  {
   "cell_type": "markdown",
   "id": "ea8330eb",
   "metadata": {},
   "source": [
    "We define a 3 layer SNN architecture having:\n",
    "+ Input layer to recieve the spike trains.\n",
    "+ Hidden Layer\n",
    "+ Output layer(Corresponding to digit class 0-9)"
   ]
  },
  {
   "cell_type": "markdown",
   "id": "a17e9a1d",
   "metadata": {},
   "source": [
    "#### 2.Implement the Leaky Integrate-and-Fire (LIF) neuron model"
   ]
  },
  {
   "cell_type": "markdown",
   "id": "7297d62d",
   "metadata": {},
   "source": [
    "+ **Membrane potential dynamics with leakage**: snn.leaky models Leaky-Integrate-fire neurons where the potential across a membrane decays(leaks) if there is no input.\n",
    "\n",
    "+ **Threshold-based spike generation**: \n",
    "    ```\n",
    "    spk1, mem1 = self.lif1(cur1, mem1)\n",
    "    spk2, mem2 = self.lif2(cur2, mem2)\n",
    "    ```\n",
    "    The spk1 and spk2 are binary values triggered to 1 only if threshold is crossed\n",
    "\n",
    "+ **Reset mechanism after firing**: Implemented automatically in SNNtorch\n",
    "\n",
    "+ **Learning method**: Supervised learning with surrogate gradients is used \n",
    "\n",
    "    `self.lif2 = snn.Leaky(beta=0.95, spike_grad=surrogate.fast_sigmoid())`"
   ]
  },
  {
   "cell_type": "code",
   "execution_count": 33,
   "id": "bd626671",
   "metadata": {},
   "outputs": [],
   "source": [
    "class SurrogateSpike(torch.autograd.Function):\n",
    "    @staticmethod\n",
    "    def forward(ctx, input):\n",
    "        ctx.save_for_backward(input)\n",
    "        return (input >= 1.0).float()\n",
    "\n",
    "    @staticmethod\n",
    "    def backward(ctx, grad_output):\n",
    "        input, = ctx.saved_tensors\n",
    "        # Example: fast sigmoid surrogate gradient\n",
    "        grad_input = grad_output.clone()\n",
    "        sigmoid_grad = 1 / (1 + torch.exp(-10 * (input - 1)))  # derivative of fast sigmoid approx\n",
    "        return grad_input * sigmoid_grad * (1 - sigmoid_grad)\n",
    "\n",
    "class LIFNeuron(nn.Module):\n",
    "    def __init__(self, beta=0.95, threshold=1.0):\n",
    "        super().__init__()\n",
    "        self.beta = beta\n",
    "        self.threshold = threshold\n",
    "\n",
    "    def forward(self, input_current, membrane_potential):\n",
    "        membrane_potential = self.beta * membrane_potential + input_current\n",
    "\n",
    "        # Use surrogate spike with custom gradient\n",
    "        spike = SurrogateSpike.apply(membrane_potential)\n",
    "\n",
    "        # Reset membrane potential where spike occurred\n",
    "        membrane_potential = membrane_potential * (1.0 - spike)\n",
    "\n",
    "        return spike, membrane_potential\n",
    "\n",
    "    def init_leaky(self, shape, device):\n",
    "        return torch.zeros(shape, device=device)\n",
    "\n",
    "\n",
    "class SNNModel(nn.Module):\n",
    "    def __init__(self):\n",
    "        super().__init__()\n",
    "        self.flatten = nn.Flatten()\n",
    "\n",
    "        self.fc1 = nn.Linear(28 * 28, 512)\n",
    "        self.lif1 = LIFNeuron(beta=0.95)\n",
    "\n",
    "        self.fc2 = nn.Linear(512, 10)\n",
    "        self.lif2 = LIFNeuron(beta=0.95)\n",
    "\n",
    "    def forward(self, x, num_steps=100):\n",
    "        batch_size = x.shape[1]\n",
    "\n",
    "        mem1 = self.lif1.init_leaky((batch_size, 512), x.device)\n",
    "        mem2 = self.lif2.init_leaky((batch_size, 10), x.device)\n",
    "\n",
    "        spk2_rec = []\n",
    "\n",
    "        for step in range(num_steps):\n",
    "            x_t = x[step]\n",
    "            x_t = self.flatten(x_t)\n",
    "\n",
    "            cur1 = self.fc1(x_t)\n",
    "            spk1, mem1 = self.lif1(cur1, mem1)\n",
    "\n",
    "            cur2 = self.fc2(spk1)\n",
    "            spk2, mem2 = self.lif2(cur2, mem2)\n",
    "\n",
    "            spk2_rec.append(spk2)\n",
    "\n",
    "        return torch.stack(spk2_rec)\n",
    "    \n",
    "net = SNNModel().to(device)\n"
   ]
  },
  {
   "cell_type": "markdown",
   "id": "051e8e23",
   "metadata": {},
   "source": [
    "### Task 3: Training and Evaluation"
   ]
  },
  {
   "cell_type": "markdown",
   "id": "0666f62f",
   "metadata": {},
   "source": [
    "> I've came to know about tqdm to add progress bar into loops :P so why not use it!!\n",
    "\n",
    "+ I've trained the SNN using Surrogate gradient descent\n",
    "+ As a loss ftn I've used cross Entropy loss as it is good for classification problems. It implements the idea for probnability. Learn more on it [here!](https://docs.pytorch.org/docs/stable/generated/torch.nn.CrossEntropyLoss.html)\n"
   ]
  },
  {
   "cell_type": "code",
   "execution_count": 34,
   "id": "4c430aef",
   "metadata": {},
   "outputs": [
    {
     "name": "stderr",
     "output_type": "stream",
     "text": [
      "Epoch 1:   1%|▏         | 7/469 [00:00<00:14, 31.97it/s]"
     ]
    },
    {
     "name": "stdout",
     "output_type": "stream",
     "text": [
      "  Batch 0, Loss: 2.3277\n"
     ]
    },
    {
     "name": "stderr",
     "output_type": "stream",
     "text": [
      "Epoch 1:  22%|██▏       | 105/469 [00:04<00:16, 21.89it/s]"
     ]
    },
    {
     "name": "stdout",
     "output_type": "stream",
     "text": [
      "  Batch 100, Loss: 1.0039\n"
     ]
    },
    {
     "name": "stderr",
     "output_type": "stream",
     "text": [
      "Epoch 1:  43%|████▎     | 204/469 [00:10<00:16, 16.30it/s]"
     ]
    },
    {
     "name": "stdout",
     "output_type": "stream",
     "text": [
      "  Batch 200, Loss: 0.2358\n"
     ]
    },
    {
     "name": "stderr",
     "output_type": "stream",
     "text": [
      "Epoch 1:  65%|██████▍   | 304/469 [00:16<00:10, 15.82it/s]"
     ]
    },
    {
     "name": "stdout",
     "output_type": "stream",
     "text": [
      "  Batch 300, Loss: 0.1706\n"
     ]
    },
    {
     "name": "stderr",
     "output_type": "stream",
     "text": [
      "Epoch 1:  86%|████████▌ | 402/469 [00:23<00:05, 12.18it/s]"
     ]
    },
    {
     "name": "stdout",
     "output_type": "stream",
     "text": [
      "  Batch 400, Loss: 0.2809\n"
     ]
    },
    {
     "name": "stderr",
     "output_type": "stream",
     "text": [
      "Epoch 1: 100%|██████████| 469/469 [00:28<00:00, 16.23it/s]\n"
     ]
    },
    {
     "name": "stdout",
     "output_type": "stream",
     "text": [
      "Epoch 1 Completed — Avg Loss: 0.5196\n"
     ]
    },
    {
     "name": "stderr",
     "output_type": "stream",
     "text": [
      "Epoch 2:   0%|          | 2/469 [00:00<00:43, 10.68it/s]"
     ]
    },
    {
     "name": "stdout",
     "output_type": "stream",
     "text": [
      "  Batch 0, Loss: 0.1668\n"
     ]
    },
    {
     "name": "stderr",
     "output_type": "stream",
     "text": [
      "Epoch 2:  22%|██▏       | 102/469 [00:09<00:35, 10.30it/s]"
     ]
    },
    {
     "name": "stdout",
     "output_type": "stream",
     "text": [
      "  Batch 100, Loss: 0.1149\n"
     ]
    },
    {
     "name": "stderr",
     "output_type": "stream",
     "text": [
      "Epoch 2:  43%|████▎     | 203/469 [00:19<00:26, 10.18it/s]"
     ]
    },
    {
     "name": "stdout",
     "output_type": "stream",
     "text": [
      "  Batch 200, Loss: 0.1845\n"
     ]
    },
    {
     "name": "stderr",
     "output_type": "stream",
     "text": [
      "Epoch 2:  65%|██████▍   | 303/469 [00:29<00:16,  9.79it/s]"
     ]
    },
    {
     "name": "stdout",
     "output_type": "stream",
     "text": [
      "  Batch 300, Loss: 0.1065\n"
     ]
    },
    {
     "name": "stderr",
     "output_type": "stream",
     "text": [
      "Epoch 2:  86%|████████▌ | 402/469 [00:40<00:07,  8.87it/s]"
     ]
    },
    {
     "name": "stdout",
     "output_type": "stream",
     "text": [
      "  Batch 400, Loss: 0.1112\n"
     ]
    },
    {
     "name": "stderr",
     "output_type": "stream",
     "text": [
      "Epoch 2: 100%|██████████| 469/469 [00:48<00:00,  9.73it/s]\n"
     ]
    },
    {
     "name": "stdout",
     "output_type": "stream",
     "text": [
      "Epoch 2 Completed — Avg Loss: 0.1375\n"
     ]
    },
    {
     "name": "stderr",
     "output_type": "stream",
     "text": [
      "Epoch 3:   0%|          | 1/469 [00:00<00:49,  9.45it/s]"
     ]
    },
    {
     "name": "stdout",
     "output_type": "stream",
     "text": [
      "  Batch 0, Loss: 0.0995\n"
     ]
    },
    {
     "name": "stderr",
     "output_type": "stream",
     "text": [
      "Epoch 3:  22%|██▏       | 103/469 [00:12<00:38,  9.46it/s]"
     ]
    },
    {
     "name": "stdout",
     "output_type": "stream",
     "text": [
      "  Batch 100, Loss: 0.0522\n"
     ]
    },
    {
     "name": "stderr",
     "output_type": "stream",
     "text": [
      "Epoch 3:  43%|████▎     | 202/469 [00:23<00:33,  8.00it/s]"
     ]
    },
    {
     "name": "stdout",
     "output_type": "stream",
     "text": [
      "  Batch 200, Loss: 0.0926\n"
     ]
    },
    {
     "name": "stderr",
     "output_type": "stream",
     "text": [
      "Epoch 3:  64%|██████▍   | 302/469 [00:35<00:21,  7.65it/s]"
     ]
    },
    {
     "name": "stdout",
     "output_type": "stream",
     "text": [
      "  Batch 300, Loss: 0.0653\n"
     ]
    },
    {
     "name": "stderr",
     "output_type": "stream",
     "text": [
      "Epoch 3:  86%|████████▌ | 402/469 [00:48<00:08,  7.82it/s]"
     ]
    },
    {
     "name": "stdout",
     "output_type": "stream",
     "text": [
      "  Batch 400, Loss: 0.1642\n"
     ]
    },
    {
     "name": "stderr",
     "output_type": "stream",
     "text": [
      "Epoch 3: 100%|██████████| 469/469 [00:56<00:00,  8.24it/s]\n"
     ]
    },
    {
     "name": "stdout",
     "output_type": "stream",
     "text": [
      "Epoch 3 Completed — Avg Loss: 0.0960\n"
     ]
    },
    {
     "name": "stderr",
     "output_type": "stream",
     "text": [
      "Epoch 4:   0%|          | 1/469 [00:00<00:54,  8.65it/s]"
     ]
    },
    {
     "name": "stdout",
     "output_type": "stream",
     "text": [
      "  Batch 0, Loss: 0.1097\n"
     ]
    },
    {
     "name": "stderr",
     "output_type": "stream",
     "text": [
      "Epoch 4:  22%|██▏       | 102/469 [00:12<00:47,  7.80it/s]"
     ]
    },
    {
     "name": "stdout",
     "output_type": "stream",
     "text": [
      "  Batch 100, Loss: 0.0746\n"
     ]
    },
    {
     "name": "stderr",
     "output_type": "stream",
     "text": [
      "Epoch 4:  43%|████▎     | 202/469 [00:25<00:32,  8.32it/s]"
     ]
    },
    {
     "name": "stdout",
     "output_type": "stream",
     "text": [
      "  Batch 200, Loss: 0.0615\n"
     ]
    },
    {
     "name": "stderr",
     "output_type": "stream",
     "text": [
      "Epoch 4:  64%|██████▍   | 302/469 [00:38<00:21,  7.59it/s]"
     ]
    },
    {
     "name": "stdout",
     "output_type": "stream",
     "text": [
      "  Batch 300, Loss: 0.1055\n"
     ]
    },
    {
     "name": "stderr",
     "output_type": "stream",
     "text": [
      "Epoch 4:  86%|████████▌ | 402/469 [00:52<00:10,  6.45it/s]"
     ]
    },
    {
     "name": "stdout",
     "output_type": "stream",
     "text": [
      "  Batch 400, Loss: 0.2159\n"
     ]
    },
    {
     "name": "stderr",
     "output_type": "stream",
     "text": [
      "Epoch 4: 100%|██████████| 469/469 [01:02<00:00,  7.53it/s]\n"
     ]
    },
    {
     "name": "stdout",
     "output_type": "stream",
     "text": [
      "Epoch 4 Completed — Avg Loss: 0.0738\n"
     ]
    },
    {
     "name": "stderr",
     "output_type": "stream",
     "text": [
      "Epoch 5:   0%|          | 1/469 [00:00<01:07,  6.92it/s]"
     ]
    },
    {
     "name": "stdout",
     "output_type": "stream",
     "text": [
      "  Batch 0, Loss: 0.1113\n"
     ]
    },
    {
     "name": "stderr",
     "output_type": "stream",
     "text": [
      "Epoch 5:  22%|██▏       | 102/469 [00:14<00:53,  6.81it/s]"
     ]
    },
    {
     "name": "stdout",
     "output_type": "stream",
     "text": [
      "  Batch 100, Loss: 0.0526\n"
     ]
    },
    {
     "name": "stderr",
     "output_type": "stream",
     "text": [
      "Epoch 5:  43%|████▎     | 202/469 [00:29<00:37,  7.20it/s]"
     ]
    },
    {
     "name": "stdout",
     "output_type": "stream",
     "text": [
      "  Batch 200, Loss: 0.0143\n"
     ]
    },
    {
     "name": "stderr",
     "output_type": "stream",
     "text": [
      "Epoch 5:  64%|██████▍   | 302/469 [00:44<00:23,  7.02it/s]"
     ]
    },
    {
     "name": "stdout",
     "output_type": "stream",
     "text": [
      "  Batch 300, Loss: 0.0704\n"
     ]
    },
    {
     "name": "stderr",
     "output_type": "stream",
     "text": [
      "Epoch 5:  86%|████████▌ | 402/469 [00:59<00:09,  6.80it/s]"
     ]
    },
    {
     "name": "stdout",
     "output_type": "stream",
     "text": [
      "  Batch 400, Loss: 0.0761\n"
     ]
    },
    {
     "name": "stderr",
     "output_type": "stream",
     "text": [
      "Epoch 5: 100%|██████████| 469/469 [01:10<00:00,  6.69it/s]"
     ]
    },
    {
     "name": "stdout",
     "output_type": "stream",
     "text": [
      "Epoch 5 Completed — Avg Loss: 0.0605\n"
     ]
    },
    {
     "name": "stderr",
     "output_type": "stream",
     "text": [
      "\n"
     ]
    },
    {
     "data": {
      "image/png": "[encoded data removed]",
      "text/plain": [
       "<Figure size 800x500 with 1 Axes>"
      ]
     },
     "metadata": {},
     "output_type": "display_data"
    }
   ],
   "source": [
    "from tqdm import tqdm\n",
    "\n",
    "\n",
    "optimizer = torch.optim.Adam(net.parameters(), lr=1e-3)\n",
    "loss_fn = nn.CrossEntropyLoss()\n",
    "\n",
    "\n",
    "loss_history = []\n",
    "\n",
    "for epoch in range(num_epochs):\n",
    "    net.train()\n",
    "    running_loss = 0.0\n",
    "\n",
    "    for i, (images, labels) in enumerate(tqdm(train_loader, desc=f\"Epoch {epoch+1}\")):\n",
    "        images = images.to(device)\n",
    "        labels = labels.to(device)\n",
    "\n",
    "        \n",
    "        spk_in = poisson_spike_encoding(images, num_steps=num_steps)  \n",
    "\n",
    "       \n",
    "        spk_out = net(spk_in, num_steps=num_steps)  \n",
    "\n",
    "        \n",
    "        spk_out_count = spk_out.sum(dim=0)\n",
    "\n",
    "        #Loss computation (Cross Entropy expects raw scoores with integer labels and is good for classification)\n",
    "        loss_val = loss_fn(spk_out_count, labels)\n",
    "\n",
    "        #Backprop\n",
    "        optimizer.zero_grad()\n",
    "        loss_val.backward()\n",
    "        optimizer.step()\n",
    "\n",
    "        running_loss += loss_val.item()\n",
    "\n",
    "        if i % 100 == 0:\n",
    "            print(f\"  Batch {i}, Loss: {loss_val.item():.4f}\")\n",
    "\n",
    "    avg_loss = running_loss / len(train_loader)\n",
    "    loss_history.append(avg_loss)\n",
    "    print(f\"Epoch {epoch+1} Completed — Avg Loss: {avg_loss:.4f}\")\n",
    "\n",
    "# Ploting the training loss --- Assumed to follow a decaying convex up curve for good model (source D2L.ai)\n",
    "plt.figure(figsize=(8, 5))\n",
    "plt.plot(range(1, num_epochs + 1), loss_history, marker='o', linestyle='-')\n",
    "plt.title(\"SNN Training Loss Curve\")\n",
    "plt.xlabel(\"Epoch\")\n",
    "plt.ylabel(\"Average Loss\")\n",
    "plt.grid(True)\n",
    "plt.tight_layout()\n",
    "plt.show()\n"
   ]
  },
  {
   "cell_type": "markdown",
   "id": "26cc806c",
   "metadata": {},
   "source": [
    "+ Training for 5 epochs only gave good progress.. similar to ANN (97.5% accuray) even without neuromorphic hardware."
   ]
  },
  {
   "cell_type": "code",
   "execution_count": 35,
   "id": "0f0895ed",
   "metadata": {},
   "outputs": [
    {
     "name": "stdout",
     "output_type": "stream",
     "text": [
      "Test Accuracy: 97.95%\n"
     ]
    }
   ],
   "source": [
    "def evaluate(net, test_loader, num_steps=100):\n",
    "    net.eval()\n",
    "    correct = 0\n",
    "    total = 0\n",
    "\n",
    "    with torch.no_grad():\n",
    "        for images, labels in test_loader:\n",
    "            images = images.to(device)\n",
    "            labels = labels.to(device)\n",
    "\n",
    "            spk_in = poisson_spike_encoding(images, num_steps)\n",
    "            spk_out = net(spk_in, num_steps)\n",
    "            spk_out_count = spk_out.sum(dim=0)\n",
    "\n",
    "            predicted = spk_out_count.argmax(1)\n",
    "            correct += (predicted == labels).sum().item()\n",
    "            total += labels.size(0)\n",
    "\n",
    "    acc = 100 * correct / total\n",
    "    print(f\"Test Accuracy: {acc:.2f}%\")\n",
    "\n",
    "evaluate(net, test_loader)\n"
   ]
  },
  {
   "cell_type": "markdown",
   "id": "fe4f816d",
   "metadata": {},
   "source": [
    "### Takeaways:"
   ]
  },
  {
   "cell_type": "markdown",
   "id": "dbec2270",
   "metadata": {},
   "source": [
    "+ Despite SNN being theoretically better than ANN, we say how SNN performs almost similar to ANN in terms of speed and accuracy and power draw.\n",
    "+ However this is a good thing that even without neuormorphic chips (native for SNN), we get such good performance\n",
    "+ This practice helps us understand how our real brain works on such low power (our brain is neuromorphically modified)"
   ]
  },
  {
   "cell_type": "code",
   "execution_count": 36,
   "id": "49151603",
   "metadata": {},
   "outputs": [
    {
     "data": {
      "image/png": "[encoded data removed]",
      "text/plain": [
       "<Figure size 640x480 with 1 Axes>"
      ]
     },
     "metadata": {},
     "output_type": "display_data"
    },
    {
     "data": {
      "text/html": [
       "<video controls  >\n",
       " <source src=\"data:video/mp4;base64,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\" type=\"video/mp4\">\n",
       " Your browser does not support the video tag.\n",
       " </video>"
      ],
      "text/plain": [
       "<IPython.core.display.Video object>"
      ]
     },
     "metadata": {},
     "output_type": "display_data"
    }
   ],
   "source": [
    "import matplotlib.pyplot as plt\n",
    "import matplotlib.animation as animation\n",
    "from IPython.display import Video, display\n",
    "import random\n",
    "\n",
    "\n",
    "images, labels = next(iter(test_loader))\n",
    "idx = random.randint(0, images.shape[0] - 1)\n",
    "test_img = images[idx].unsqueeze(0).to(device) \n",
    "true_label = labels[idx].item()\n",
    "\n",
    "# Display the selected one test image\n",
    "plt.imshow(test_img.squeeze().cpu(), cmap='gray')\n",
    "plt.title(f\"Test Image — True Label: {true_label}\")\n",
    "plt.axis('off')\n",
    "plt.show()\n",
    "\n",
    "# Poisson encode the test image to pass it in the SNN model\n",
    "test_spikes = poisson_spike_encoding(test_img, num_steps=100)  # [nuim_steps, 1, 1, 28, 28]\n",
    "\n",
    "# Running through SNN\n",
    "spk_rec = net(test_spikes.to(device), num_steps=100).squeeze(1).detach().cpu()  \n",
    "\n",
    "# Spike count animation(found this snippet in a kaggle notebook)\n",
    "fig, ax = plt.subplots(figsize=(10, 6))\n",
    "bars = ax.bar(range(10), [0]*10, tick_label=list(range(10)))\n",
    "ax.set_ylim(0, 250)  \n",
    "ax.set_title(f\"Spike Activity Over Time — True Label: {true_label}\")\n",
    "ax.set_ylabel(\"Spike Count\")\n",
    "ax.set_xlabel(\"Class\")\n",
    "\n",
    "def update(frame):\n",
    "    for i, b in enumerate(bars):\n",
    "        b.set_height(spk_rec[:frame+1, i].sum().item())\n",
    "    return bars\n",
    "\n",
    "ani = animation.FuncAnimation(fig, update, frames=100, blit=False, interval=100)\n",
    "\n",
    "\n",
    "# Save & Display Inline\n",
    "video_path = \"spike_activity.mp4\"\n",
    "ani.save(video_path, writer='ffmpeg', fps=5)\n",
    "plt.close()\n",
    "display(Video(video_path, embed=True))\n"
   ]
  },
  {
   "cell_type": "markdown",
   "id": "e8fb72a9",
   "metadata": {},
   "source": [
    "+ This tool for visualization was inspired by [this notebook!](https://www.kaggle.com/code/khoahongg/classify-n-mnist-with-spiking-neural-network/notebook)\n",
    "\n",
    "+ Try running this block without training the model (i.e at 11% accuracy) as well :P\n",
    "\n",
    "+ We see that we recieve output spikes for other labels as well (apart from true label) as our true digit is partly similar to other digits as well"
   ]
  },
  {
   "cell_type": "markdown",
   "id": "3be48193",
   "metadata": {},
   "source": [
    "### Resources used:"
   ]
  },
  {
   "cell_type": "markdown",
   "id": "8b81e1a4",
   "metadata": {},
   "source": [
    "1. I came to know of SNN through a video of Jason Eshraghian (Lead developer of SNN torch). I've self curated a [playlist](https://www.youtube.com/playlist?list=PLtO_DmDV5KcVWKdvM8ZEx_eti4dkX0lrt) of his tutorial to use SNNtorch.\n",
    "\n",
    "    + The extremely well curated [documentation of SNNtorch](https://snntorch.readthedocs.io/en/latest/tutorials/index.html)\n",
    "\n",
    "2. To understand the difference b/w ANN and SNN, the 3 types of harwares chronologically used in ML (neuromorphic being the latest) I highly recommed [this paper](https://oshears.github.io/adv-ml-2020-snn-project/report/Advanced_Machine_Learning_Project_Report.pdf) by \n",
    "\n"
   ]
  },
  {
   "cell_type": "markdown",
   "id": "7501e162",
   "metadata": {},
   "source": []
  }
 ],
 "metadata": {
  "kernelspec": {
   "display_name": "atari-py",
   "language": "python",
   "name": "python3"
  },
  "language_info": {
   "codemirror_mode": {
    "name": "ipython",
    "version": 3
   },
   "file_extension": ".py",
   "mimetype": "text/x-python",
   "name": "python",
   "nbconvert_exporter": "python",
   "pygments_lexer": "ipython3",
   "version": "3.13.5"
  }
 },
 "nbformat": 4,
 "nbformat_minor": 5
}
