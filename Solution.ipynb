{
 "cells": [
  {
   "cell_type": "code",
   "execution_count": 1,
   "id": "b9a82b8d",
   "metadata": {},
   "outputs": [
    {
     "name": "stdout",
     "output_type": "stream",
     "text": [
      "Requirement already satisfied: snntorch in ./python-atari/atari-py/lib/python3.13/site-packages (0.9.4)\n",
      "Requirement already satisfied: torch in ./python-atari/atari-py/lib/python3.13/site-packages (2.7.1)\n",
      "Requirement already satisfied: torchvision in ./python-atari/atari-py/lib/python3.13/site-packages (0.22.1)\n",
      "Requirement already satisfied: matplotlib in ./python-atari/atari-py/lib/python3.13/site-packages (3.10.3)\n",
      "Requirement already satisfied: tqdm in ./python-atari/atari-py/lib/python3.13/site-packages (4.67.1)\n",
      "Requirement already satisfied: filelock in ./python-atari/atari-py/lib/python3.13/site-packages (from torch) (3.18.0)\n",
      "Requirement already satisfied: typing-extensions>=4.10.0 in ./python-atari/atari-py/lib/python3.13/site-packages (from torch) (4.13.2)\n",
      "Requirement already satisfied: setuptools in ./python-atari/atari-py/lib/python3.13/site-packages (from torch) (80.9.0)\n",
      "Requirement already satisfied: sympy>=1.13.3 in ./python-atari/atari-py/lib/python3.13/site-packages (from torch) (1.14.0)\n",
      "Requirement already satisfied: networkx in ./python-atari/atari-py/lib/python3.13/site-packages (from torch) (3.5)\n",
      "Requirement already satisfied: jinja2 in ./python-atari/atari-py/lib/python3.13/site-packages (from torch) (3.1.6)\n",
      "Requirement already satisfied: fsspec in ./python-atari/atari-py/lib/python3.13/site-packages (from torch) (2025.5.1)\n",
      "Requirement already satisfied: nvidia-cuda-nvrtc-cu12==12.6.77 in ./python-atari/atari-py/lib/python3.13/site-packages (from torch) (12.6.77)\n",
      "Requirement already satisfied: nvidia-cuda-runtime-cu12==12.6.77 in ./python-atari/atari-py/lib/python3.13/site-packages (from torch) (12.6.77)\n",
      "Requirement already satisfied: nvidia-cuda-cupti-cu12==12.6.80 in ./python-atari/atari-py/lib/python3.13/site-packages (from torch) (12.6.80)\n",
      "Requirement already satisfied: nvidia-cudnn-cu12==9.5.1.17 in ./python-atari/atari-py/lib/python3.13/site-packages (from torch) (9.5.1.17)\n",
      "Requirement already satisfied: nvidia-cublas-cu12==12.6.4.1 in ./python-atari/atari-py/lib/python3.13/site-packages (from torch) (12.6.4.1)\n",
      "Requirement already satisfied: nvidia-cufft-cu12==11.3.0.4 in ./python-atari/atari-py/lib/python3.13/site-packages (from torch) (11.3.0.4)\n",
      "Requirement already satisfied: nvidia-curand-cu12==10.3.7.77 in ./python-atari/atari-py/lib/python3.13/site-packages (from torch) (10.3.7.77)\n",
      "Requirement already satisfied: nvidia-cusolver-cu12==11.7.1.2 in ./python-atari/atari-py/lib/python3.13/site-packages (from torch) (11.7.1.2)\n",
      "Requirement already satisfied: nvidia-cusparse-cu12==12.5.4.2 in ./python-atari/atari-py/lib/python3.13/site-packages (from torch) (12.5.4.2)\n",
      "Requirement already satisfied: nvidia-cusparselt-cu12==0.6.3 in ./python-atari/atari-py/lib/python3.13/site-packages (from torch) (0.6.3)\n",
      "Requirement already satisfied: nvidia-nccl-cu12==2.26.2 in ./python-atari/atari-py/lib/python3.13/site-packages (from torch) (2.26.2)\n",
      "Requirement already satisfied: nvidia-nvtx-cu12==12.6.77 in ./python-atari/atari-py/lib/python3.13/site-packages (from torch) (12.6.77)\n",
      "Requirement already satisfied: nvidia-nvjitlink-cu12==12.6.85 in ./python-atari/atari-py/lib/python3.13/site-packages (from torch) (12.6.85)\n",
      "Requirement already satisfied: nvidia-cufile-cu12==1.11.1.6 in ./python-atari/atari-py/lib/python3.13/site-packages (from torch) (1.11.1.6)\n",
      "Requirement already satisfied: triton==3.3.1 in ./python-atari/atari-py/lib/python3.13/site-packages (from torch) (3.3.1)\n",
      "Requirement already satisfied: numpy in ./python-atari/atari-py/lib/python3.13/site-packages (from torchvision) (2.2.6)\n",
      "Requirement already satisfied: pillow!=8.3.*,>=5.3.0 in ./python-atari/atari-py/lib/python3.13/site-packages (from torchvision) (11.2.1)\n",
      "Requirement already satisfied: contourpy>=1.0.1 in ./python-atari/atari-py/lib/python3.13/site-packages (from matplotlib) (1.3.2)\n",
      "Requirement already satisfied: cycler>=0.10 in ./python-atari/atari-py/lib/python3.13/site-packages (from matplotlib) (0.12.1)\n",
      "Requirement already satisfied: fonttools>=4.22.0 in ./python-atari/atari-py/lib/python3.13/site-packages (from matplotlib) (4.58.1)\n",
      "Requirement already satisfied: kiwisolver>=1.3.1 in ./python-atari/atari-py/lib/python3.13/site-packages (from matplotlib) (1.4.8)\n",
      "Requirement already satisfied: packaging>=20.0 in ./python-atari/atari-py/lib/python3.13/site-packages (from matplotlib) (25.0)\n",
      "Requirement already satisfied: pyparsing>=2.3.1 in ./python-atari/atari-py/lib/python3.13/site-packages (from matplotlib) (3.2.3)\n",
      "Requirement already satisfied: python-dateutil>=2.7 in ./python-atari/atari-py/lib/python3.13/site-packages (from matplotlib) (2.9.0.post0)\n",
      "Requirement already satisfied: six>=1.5 in ./python-atari/atari-py/lib/python3.13/site-packages (from python-dateutil>=2.7->matplotlib) (1.17.0)\n",
      "Requirement already satisfied: mpmath<1.4,>=1.1.0 in ./python-atari/atari-py/lib/python3.13/site-packages (from sympy>=1.13.3->torch) (1.3.0)\n",
      "Requirement already satisfied: MarkupSafe>=2.0 in ./python-atari/atari-py/lib/python3.13/site-packages (from jinja2->torch) (3.0.2)\n",
      "Note: you may need to restart the kernel to use updated packages.\n"
     ]
    }
   ],
   "source": [
    "%pip install snntorch torch torchvision matplotlib tqdm"
   ]
  },
  {
   "cell_type": "markdown",
   "id": "e95bd5bd",
   "metadata": {},
   "source": [
    "### Task 1: Data Preprocessing (Spike Encoding)"
   ]
  },
  {
   "cell_type": "markdown",
   "id": "a3039f8e",
   "metadata": {},
   "source": [
    "#### 1.Download and preprocess the MNIST dataset."
   ]
  },
  {
   "cell_type": "markdown",
   "id": "69f248bd",
   "metadata": {},
   "source": [
    "+ Here I'm using SNNTORCH library developed by SNN researcher [Jason Eshraghian](https://www.jasoneshraghian.com/)\n",
    "\n",
    "+ At first we'll import the required libraries\n",
    "\n",
    "+ <span style=\"color:yellow\"> Here the matplotlib.animation is added to visualize the spike trains later...\n",
    "</span>\n"
   ]
  },
  {
   "cell_type": "code",
   "execution_count": 2,
   "id": "af2ffef4",
   "metadata": {},
   "outputs": [],
   "source": [
    "import snntorch as snn\n",
    "import snntorch.functional as SF\n",
    "import snntorch.surrogate as surrogate\n",
    "from snntorch import spikegen\n",
    "import torch.nn as nn\n",
    "import torch\n",
    "import torch.nn as nn\n",
    "import torchvision\n",
    "import torchvision.transforms as transforms\n",
    "import matplotlib.pyplot as plt\n",
    "import matplotlib.animation as animation"
   ]
  },
  {
   "cell_type": "markdown",
   "id": "49b6ba63",
   "metadata": {},
   "source": [
    "+ No GPU for me :P\n",
    "and that won't matter mostly as SNN is a third gen computing and requires very low energy and is robust on CPU as well..\n",
    "I'm using the Rate Method instead of temporal method. DOing Poisson rate encoding for 100 steps slows down the training process...\n",
    "\n",
    "+ I've used random seed 42 (the classic..)"
   ]
  },
  {
   "cell_type": "code",
   "execution_count": 3,
   "id": "434bca2d",
   "metadata": {},
   "outputs": [],
   "source": [
    "import numpy as np\n",
    "np.random.seed(42)\n",
    "device = torch.device(\"cuda\" if torch.cuda.is_available() else \"cpu\")\n"
   ]
  },
  {
   "cell_type": "markdown",
   "id": "878500c4",
   "metadata": {},
   "source": [
    ">As mentioned earlier.. rate encoding steps are taken to be 10\n",
    "\n",
    "\n",
    " (more the merrier but training time increases dramatically)\n",
    "\n",
    "\n",
    "the 60,000 MNIST image datasets would be trained in batches of 128\n"
   ]
  },
  {
   "cell_type": "code",
   "execution_count": 4,
   "id": "063b64e0",
   "metadata": {},
   "outputs": [],
   "source": [
    "num_steps = 10\n",
    "num_epochs=5       # Time steps for spike simulation\n",
    "batch_size = 128\n",
    "learning_rate = 1e-3\n",
    "num_classes = 10 # constant for this problem.. classes being labels from 0 to 9 (both inclusive)\n"
   ]
  },
  {
   "cell_type": "markdown",
   "id": "0ce832a2",
   "metadata": {},
   "source": [
    "+ Here we are importing MNIST images dataset in .data folder for training (60,000) and testing (10,000)\n",
    "\n",
    "+ I am using torch dataset and transforms provided by pytorch as it has the compose method which makes all the preprocessing code fit in one line"
   ]
  },
  {
   "cell_type": "code",
   "execution_count": 5,
   "id": "68f91706",
   "metadata": {},
   "outputs": [
    {
     "name": "stderr",
     "output_type": "stream",
     "text": [
      "100%|██████████| 9.91M/9.91M [00:12<00:00, 823kB/s] \n",
      "100%|██████████| 28.9k/28.9k [00:00<00:00, 98.3kB/s]\n",
      "100%|██████████| 1.65M/1.65M [00:02<00:00, 800kB/s] \n",
      "100%|██████████| 4.54k/4.54k [00:00<00:00, 26.3MB/s]\n"
     ]
    }
   ],
   "source": [
    "transform = transforms.Compose([transforms.ToTensor()])\n",
    "\n",
    "train_data = torchvision.datasets.MNIST(root='./data', train=True, transform=transform, download=True)\n",
    "test_data = torchvision.datasets.MNIST(root='./data', train=False, transform=transform)\n",
    "\n",
    "train_loader = torch.utils.data.DataLoader(train_data, batch_size=batch_size, shuffle=True)\n",
    "test_loader = torch.utils.data.DataLoader(test_data, batch_size=batch_size, shuffle=False)\n"
   ]
  },
  {
   "cell_type": "markdown",
   "id": "12385644",
   "metadata": {},
   "source": [
    "#### 2.Implement Poisson rate coding to convert pixel intensities into spike trains. Higher pixel intensities should correspond to higher firing rates."
   ]
  },
  {
   "cell_type": "markdown",
   "id": "4cd31c6f",
   "metadata": {},
   "source": [
    ">This is a crazy thing and crux of our model so We'll read and explain this carefully:\n",
    "\n",
    "+ First of all we input images and num_steps to the function to give us a tensor \n",
    "'(num_steps,batch_size,1,28,28)'  \n",
    "+ <span style=\"color:orange\"><em>\n",
    "This type of tensor size would make sense after visualizing it</em></span>\n",
    "+ All it does is,\n",
    "  + it input an image batch of batch size being primitive size of image tensor input.\n",
    " Hence we use `batch_size = images.shape[0]`\n",
    "  + then for an image of size 28x28, it creates a tensor of size num_stepsx28x28 for each pixel in any image.. its intensity determines the rate at which a spike is fired (Again, if this is harder to grab.. see the visualization part)\n"
   ]
  },
  {
   "cell_type": "code",
   "execution_count": 6,
   "id": "77398ba9",
   "metadata": {},
   "outputs": [],
   "source": [
    "def poisson_spike_encoding(images, num_steps=100):\n",
    "\n",
    "    batch_size = images.shape[0]\n",
    "    image_shape = images.shape[1:]\n",
    "    \n",
    "    rand_vals = torch.rand((num_steps, batch_size, *image_shape), device=images.device)\n",
    "    spike_trains = rand_vals < images.unsqueeze(0)\n",
    "    \n",
    "    return spike_trains.float()\n"
   ]
  },
  {
   "cell_type": "markdown",
   "id": "c6fe3b26",
   "metadata": {},
   "source": [
    "#### 3.Visualize sample input spike patterns for various digits to verify that encoding is working correctly."
   ]
  },
  {
   "cell_type": "markdown",
   "id": "40b136d8",
   "metadata": {},
   "source": [
    "**I have loaded an MNIST image of class 1  to give some insights**\n",
    "Also I've plotted the cell grid in MNIST to see the image as a grid of pixel intenities in blue colour because the black one would've overlapped"
   ]
  },
  {
   "cell_type": "code",
   "execution_count": 7,
   "id": "fd3aeb57",
   "metadata": {},
   "outputs": [
    {
     "data": {
      "image/png": "[encoded data removed]",
      "text/plain": [
       "<Figure size 600x600 with 1 Axes>"
      ]
     },
     "metadata": {},
     "output_type": "display_data"
    }
   ],
   "source": [
    "choice=1\n",
    "dataiter = iter(train_loader)\n",
    "images, labels = next(dataiter)\n",
    "images, labels = images.to(device), labels.to(device)\n",
    "zero_index = (labels == choice).nonzero(as_tuple=True)[0][0]\n",
    "image_zero = images[zero_index].unsqueeze(0)  \n",
    "\n",
    "\n",
    "fig, ax = plt.subplots(figsize=(6, 6))\n",
    "image_data = image_zero[0, 0].cpu().numpy()\n",
    "table = ax.imshow(image_data, cmap='Blues', vmin=0, vmax=1)\n",
    "\n",
    "# Adding to show all the pixel values as text on a grid like strudcture\n",
    "for i in range(28):\n",
    "    for j in range(28):\n",
    "        val = image_data[i, j]\n",
    "        ax.text(j, i, f\"{val:.2f}\", ha=\"center\", va=\"center\",\n",
    "                color=\"white\" if val > 0.5 else \"black\", fontsize=5)\n",
    "\n",
    "ax.set_title(\"Digit: 1 - Pixel Intensities\")\n",
    "ax.axis('off')\n",
    "plt.show()"
   ]
  },
  {
   "cell_type": "markdown",
   "id": "67b09021",
   "metadata": {},
   "source": [
    "+ Loads digit 1 image from MNIST data set and performs poisson encoding on it..\n",
    "+ We use digit 1 because most of bright pixels are located at middle column hence if we arrange the 28x28 array as a 1-D 784 array.. we get a bright pixel periodically with period 28..\n",
    "+ Now when we plot the poisson spike train... we see the claim that for 10 time steps... the pixels after 150 fire almost always with period of 28 (as every 28th pixel is brigh in image of 1)"
   ]
  },
  {
   "cell_type": "code",
   "execution_count": 8,
   "id": "470eb94c",
   "metadata": {},
   "outputs": [
    {
     "data": {
      "image/png": "[encoded data removed]",
      "text/plain": [
       "<Figure size 1000x400 with 1 Axes>"
      ]
     },
     "metadata": {},
     "output_type": "display_data"
    }
   ],
   "source": [
    "# Generate possion spikes for digit one\n",
    "spike_trains = poisson_spike_encoding(image_zero, num_steps=num_steps)  # shape: (num_steps, 1, 1, 28, 28) as explained above\n",
    "\n",
    "# Plot spike analysis for digit 1..\n",
    "fig, ax = plt.subplots(figsize=(10, 4))\n",
    "raster = spike_trains[:, 0, 0].reshape(num_steps, -1).cpu().numpy()\n",
    "ax.imshow(raster, cmap='Greys', aspect='auto')\n",
    "ax.set_title(\"Poisson Spikes for Digit: \" + str(choice))\n",
    "ax.set_xlabel(\"Flattened Pixel Index\")\n",
    "ax.set_ylabel(\"Time Step\")\n",
    "plt.show()\n"
   ]
  },
  {
   "cell_type": "code",
   "execution_count": 9,
   "id": "49ed1ee1",
   "metadata": {},
   "outputs": [
    {
     "data": {
      "image/gif": "[encoded data removed]",
      "text/plain": [
       "<IPython.core.display.Image object>"
      ]
     },
     "metadata": {},
     "output_type": "display_data"
    }
   ],
   "source": [
    "from IPython.display import Image, display\n",
    "\n",
    "spikes = spike_trains[:, 0, 0].cpu().numpy()  # (num_steps, 28, 28)\n",
    "\n",
    "fig, ax = plt.subplots(figsize=(4, 4))\n",
    "im = ax.imshow(spikes[0], cmap='gray', vmin=0, vmax=1)\n",
    "ax.axis('off')\n",
    "\n",
    "def update(t):\n",
    "    im.set_array(spikes[t])\n",
    "    ax.set_title(f'Time Step: {t}')\n",
    "    return [im]\n",
    "\n",
    "ani = animation.FuncAnimation(fig, update, frames=num_steps, interval=50, blit=True)\n",
    "\n",
    "# Save GIF locally and also to display it in notebook\n",
    "gif_path = \"mnist_spike_flash.gif\"\n",
    "ani.save(gif_path, writer='pillow', fps=5)\n",
    "plt.close(fig)\n",
    "\n",
    "# display inline in notebook!\n",
    "display(Image(filename=gif_path))"
   ]
  },
  {
   "cell_type": "markdown",
   "id": "4da5d089",
   "metadata": {},
   "source": [
    "+ This is a simulation of how the network sees the image as spike table.. the boundary pixels flicker because their intensity is around 0.7-0.8 but the middle pixels never flicker as they are extremely bright and are fired everytime."
   ]
  },
  {
   "cell_type": "markdown",
   "id": "9b51864b",
   "metadata": {},
   "source": [
    "### Task 2: SNN Model Implementation"
   ]
  },
  {
   "cell_type": "markdown",
   "id": "7c3f7603",
   "metadata": {},
   "source": [
    "#### 1.Design a 3-layer SNN architecture:\n"
   ]
  },
  {
   "cell_type": "markdown",
   "id": "ea8330eb",
   "metadata": {},
   "source": [
    "We define a 3 layer SNN architecture having:\n",
    "+ Input layer to recieve the spike trains.\n",
    "+ Hidden Layer\n",
    "+ Output layer(Corresponding to digit class 0-9)"
   ]
  },
  {
   "cell_type": "markdown",
   "id": "a17e9a1d",
   "metadata": {},
   "source": [
    "#### 2.Implement the Leaky Integrate-and-Fire (LIF) neuron model"
   ]
  },
  {
   "cell_type": "markdown",
   "id": "7297d62d",
   "metadata": {},
   "source": [
    "+ **Membrane potential dynamics with leakage**: snn.leaky models Leaky-Integrate-fire neurons where the potential across a membrane decays(leaks) if there is no input.\n",
    "\n",
    "+ **Learning method**: Supervised learning with surrogate gradients is used \n",
    "+ Here we define the SurrogateSpike class (as the real spike functions as discrete and not differentiable)\n",
    "    + We used [@staticmethod](https://www.programiz.com/python-programming/methods/built-in/staticmethod) to call the forward and backward method without crating an object explicitly\n",
    "    + We apply chain rule ourselves in the return of backward method to mimic Heaviside function inputs."
   ]
  },
  {
   "cell_type": "code",
   "execution_count": 10,
   "id": "93a42423",
   "metadata": {},
   "outputs": [],
   "source": [
    "class SurrogateSpike(torch.autograd.Function):\n",
    "    @staticmethod\n",
    "    def forward(ctx, input):\n",
    "        ctx.save_for_backward(input)\n",
    "        return (input >= 1.0).float()\n",
    "\n",
    "    @staticmethod\n",
    "    def backward(ctx, grad_output):\n",
    "        input, = ctx.saved_tensors\n",
    "        # Example: fast sigmoid surrogate gradient\n",
    "        grad_input = grad_output.clone()\n",
    "        sigmoid_grad = 1 / (1 + torch.exp(-10 * (input - 1)))  # derivative of fast sigmoid approx\n",
    "        return grad_input * sigmoid_grad * (1 - sigmoid_grad)\n"
   ]
  },
  {
   "cell_type": "markdown",
   "id": "bef27948",
   "metadata": {},
   "source": [
    "+ Here we define the Leaky neuron model (inspired by our brain) to be operated on the spike trains.\n",
    "\n",
    "```python\n",
    "        membrane_potential = self.beta * membrane_potential + input_current\n",
    "```\n",
    "....is the leaky integration step\n",
    "\n",
    "```python\n",
    "        spike = SurrogateSpike.apply(membrane_potential)\n",
    "```\n",
    "... applies the spike surrogate ftn.\n",
    "\n",
    "```python\n",
    "        membrane_potential = membrane_potential * (1.0 - spike)\n",
    "```\n",
    "...this is the reset mechanism"
   ]
  },
  {
   "cell_type": "code",
   "execution_count": 11,
   "id": "219948a8",
   "metadata": {},
   "outputs": [],
   "source": [
    "class LIFNeuron(nn.Module):\n",
    "    def __init__(self, beta=0.95, threshold=1.0):\n",
    "        super().__init__()\n",
    "        self.beta = beta\n",
    "        self.threshold = threshold\n",
    "\n",
    "    def forward(self, input_current, membrane_potential):\n",
    "        membrane_potential = self.beta * membrane_potential + input_current\n",
    "\n",
    "        # Use surrogate spike with custom gradient\n",
    "        spike = SurrogateSpike.apply(membrane_potential)\n",
    "\n",
    "        # Reset membrane potential where spike occurred\n",
    "        membrane_potential = membrane_potential * (1.0 - spike)\n",
    "\n",
    "        return spike, membrane_potential\n",
    "\n",
    "    def init_leaky(self, shape, device):\n",
    "        return torch.zeros(shape, device=device)\n",
    "\n"
   ]
  },
  {
   "cell_type": "markdown",
   "id": "0ff2f115",
   "metadata": {},
   "source": [
    "+ This the the main Spiking Network 3 layers \n",
    "    + fc1: 784 → 512 (Input layer)\n",
    "    + fc2: 512 → 256 (Hidden layer)\n",
    "    + fc3: 256 → 10 (Output layer)"
   ]
  },
  {
   "cell_type": "code",
   "execution_count": 12,
   "id": "bd626671",
   "metadata": {},
   "outputs": [],
   "source": [
    "class SNNModel(nn.Module):\n",
    "    def __init__(self):\n",
    "        super().__init__()\n",
    "        self.flatten = nn.Flatten()\n",
    "\n",
    "        self.fc1 = nn.Linear(28 * 28, 512)\n",
    "        self.lif1 = LIFNeuron(beta=0.95)\n",
    "\n",
    "        self.fc2 = nn.Linear(512, 256)\n",
    "        self.lif2 = LIFNeuron(beta=0.95)\n",
    "\n",
    "        self.fc3 = nn.Linear(256, 10)\n",
    "        self.lif3 = LIFNeuron(beta=0.95)\n",
    "\n",
    "    def forward(self, x, num_steps=100):\n",
    "        batch_size = x.shape[1]\n",
    "\n",
    "        mem1 = self.lif1.init_leaky((batch_size, 512), x.device)\n",
    "        mem2 = self.lif2.init_leaky((batch_size, 256), x.device)\n",
    "        mem3 = self.lif3.init_leaky((batch_size, 10), x.device)\n",
    "\n",
    "        spk3_rec = []\n",
    "\n",
    "        for step in range(num_steps):\n",
    "            x_t = x[step]\n",
    "            x_t = self.flatten(x_t)\n",
    "\n",
    "            cur1 = self.fc1(x_t)\n",
    "            spk1, mem1 = self.lif1(cur1, mem1)\n",
    "\n",
    "            cur2 = self.fc2(spk1)\n",
    "            spk2, mem2 = self.lif2(cur2, mem2)\n",
    "\n",
    "            cur3 = self.fc3(spk2)\n",
    "            spk3, mem3 = self.lif3(cur3, mem3)\n",
    "\n",
    "            spk3_rec.append(spk3)\n",
    "\n",
    "        return torch.stack(spk3_rec)"
   ]
  },
  {
   "cell_type": "markdown",
   "id": "051e8e23",
   "metadata": {},
   "source": [
    "### Task 3: Training and Evaluation"
   ]
  },
  {
   "cell_type": "markdown",
   "id": "0666f62f",
   "metadata": {},
   "source": [
    "> I've came to know about tqdm to add progress bar into loops :P so why not use it!!\n",
    "\n",
    "+ I've trained the SNN using Surrogate gradient descent\n",
    "+ As a loss ftn I've used cross Entropy loss as it is good for classification problems. It implements the idea for probnability. Learn more on it [here!](https://docs.pytorch.org/docs/stable/generated/torch.nn.CrossEntropyLoss.html)\n"
   ]
  },
  {
   "cell_type": "code",
   "execution_count": 13,
   "id": "4c430aef",
   "metadata": {},
   "outputs": [
    {
     "name": "stderr",
     "output_type": "stream",
     "text": [
      "Epoch 1:   1%|          | 3/469 [00:00<00:18, 25.33it/s]"
     ]
    },
    {
     "name": "stdout",
     "output_type": "stream",
     "text": [
      "  Batch 0, Loss: 2.3026\n"
     ]
    },
    {
     "name": "stderr",
     "output_type": "stream",
     "text": [
      "Epoch 1:  22%|██▏       | 103/469 [00:05<00:27, 13.49it/s]"
     ]
    },
    {
     "name": "stdout",
     "output_type": "stream",
     "text": [
      "  Batch 100, Loss: 0.3675\n"
     ]
    },
    {
     "name": "stderr",
     "output_type": "stream",
     "text": [
      "Epoch 1:  43%|████▎     | 203/469 [00:12<00:20, 13.29it/s]"
     ]
    },
    {
     "name": "stdout",
     "output_type": "stream",
     "text": [
      "  Batch 200, Loss: 0.3684\n"
     ]
    },
    {
     "name": "stderr",
     "output_type": "stream",
     "text": [
      "Epoch 1:  65%|██████▍   | 303/469 [00:22<00:16,  9.87it/s]"
     ]
    },
    {
     "name": "stdout",
     "output_type": "stream",
     "text": [
      "  Batch 300, Loss: 0.1915\n"
     ]
    },
    {
     "name": "stderr",
     "output_type": "stream",
     "text": [
      "Epoch 1:  86%|████████▌ | 402/469 [00:33<00:07,  8.88it/s]"
     ]
    },
    {
     "name": "stdout",
     "output_type": "stream",
     "text": [
      "  Batch 400, Loss: 0.2353\n"
     ]
    },
    {
     "name": "stderr",
     "output_type": "stream",
     "text": [
      "Epoch 1: 100%|██████████| 469/469 [00:41<00:00, 11.40it/s]\n"
     ]
    },
    {
     "name": "stdout",
     "output_type": "stream",
     "text": [
      "Epoch 1 Completed — Avg Loss: 0.4168\n"
     ]
    },
    {
     "name": "stderr",
     "output_type": "stream",
     "text": [
      "Epoch 2:   0%|          | 1/469 [00:00<01:01,  7.60it/s]"
     ]
    },
    {
     "name": "stdout",
     "output_type": "stream",
     "text": [
      "  Batch 0, Loss: 0.1075\n"
     ]
    },
    {
     "name": "stderr",
     "output_type": "stream",
     "text": [
      "Epoch 2:  22%|██▏       | 102/469 [00:14<00:55,  6.56it/s]"
     ]
    },
    {
     "name": "stdout",
     "output_type": "stream",
     "text": [
      "  Batch 100, Loss: 0.1114\n"
     ]
    },
    {
     "name": "stderr",
     "output_type": "stream",
     "text": [
      "Epoch 2:  43%|████▎     | 202/469 [00:30<00:40,  6.59it/s]"
     ]
    },
    {
     "name": "stdout",
     "output_type": "stream",
     "text": [
      "  Batch 200, Loss: 0.2509\n"
     ]
    },
    {
     "name": "stderr",
     "output_type": "stream",
     "text": [
      "Epoch 2:  64%|██████▍   | 302/469 [00:45<00:27,  6.18it/s]"
     ]
    },
    {
     "name": "stdout",
     "output_type": "stream",
     "text": [
      "  Batch 300, Loss: 0.1305\n"
     ]
    },
    {
     "name": "stderr",
     "output_type": "stream",
     "text": [
      "Epoch 2:  86%|████████▌ | 402/469 [01:02<00:12,  5.55it/s]"
     ]
    },
    {
     "name": "stdout",
     "output_type": "stream",
     "text": [
      "  Batch 400, Loss: 0.1337\n"
     ]
    },
    {
     "name": "stderr",
     "output_type": "stream",
     "text": [
      "Epoch 2: 100%|██████████| 469/469 [01:13<00:00,  6.35it/s]\n"
     ]
    },
    {
     "name": "stdout",
     "output_type": "stream",
     "text": [
      "Epoch 2 Completed — Avg Loss: 0.1344\n"
     ]
    },
    {
     "name": "stderr",
     "output_type": "stream",
     "text": [
      "Epoch 3:   0%|          | 2/469 [00:00<01:28,  5.27it/s]"
     ]
    },
    {
     "name": "stdout",
     "output_type": "stream",
     "text": [
      "  Batch 0, Loss: 0.0807\n"
     ]
    },
    {
     "name": "stderr",
     "output_type": "stream",
     "text": [
      "Epoch 3:  22%|██▏       | 102/469 [00:17<01:10,  5.19it/s]"
     ]
    },
    {
     "name": "stdout",
     "output_type": "stream",
     "text": [
      "  Batch 100, Loss: 0.1010\n"
     ]
    },
    {
     "name": "stderr",
     "output_type": "stream",
     "text": [
      "Epoch 3:  43%|████▎     | 202/469 [00:36<00:48,  5.51it/s]"
     ]
    },
    {
     "name": "stdout",
     "output_type": "stream",
     "text": [
      "  Batch 200, Loss: 0.0569\n"
     ]
    },
    {
     "name": "stderr",
     "output_type": "stream",
     "text": [
      "Epoch 3:  64%|██████▍   | 302/469 [00:55<00:32,  5.10it/s]"
     ]
    },
    {
     "name": "stdout",
     "output_type": "stream",
     "text": [
      "  Batch 300, Loss: 0.0398\n"
     ]
    },
    {
     "name": "stderr",
     "output_type": "stream",
     "text": [
      "Epoch 3:  86%|████████▌ | 401/469 [01:15<00:14,  4.74it/s]"
     ]
    },
    {
     "name": "stdout",
     "output_type": "stream",
     "text": [
      "  Batch 400, Loss: 0.1445\n"
     ]
    },
    {
     "name": "stderr",
     "output_type": "stream",
     "text": [
      "Epoch 3: 100%|██████████| 469/469 [01:28<00:00,  5.28it/s]\n"
     ]
    },
    {
     "name": "stdout",
     "output_type": "stream",
     "text": [
      "Epoch 3 Completed — Avg Loss: 0.0966\n"
     ]
    },
    {
     "name": "stderr",
     "output_type": "stream",
     "text": [
      "Epoch 4:   0%|          | 1/469 [00:00<01:26,  5.42it/s]"
     ]
    },
    {
     "name": "stdout",
     "output_type": "stream",
     "text": [
      "  Batch 0, Loss: 0.1121\n"
     ]
    },
    {
     "name": "stderr",
     "output_type": "stream",
     "text": [
      "Epoch 4:  22%|██▏       | 102/469 [00:21<01:10,  5.21it/s]"
     ]
    },
    {
     "name": "stdout",
     "output_type": "stream",
     "text": [
      "  Batch 100, Loss: 0.0703\n"
     ]
    },
    {
     "name": "stderr",
     "output_type": "stream",
     "text": [
      "Epoch 4:  43%|████▎     | 202/469 [00:41<00:54,  4.89it/s]"
     ]
    },
    {
     "name": "stdout",
     "output_type": "stream",
     "text": [
      "  Batch 200, Loss: 0.0195\n"
     ]
    },
    {
     "name": "stderr",
     "output_type": "stream",
     "text": [
      "Epoch 4:  64%|██████▍   | 301/469 [01:03<00:39,  4.24it/s]"
     ]
    },
    {
     "name": "stdout",
     "output_type": "stream",
     "text": [
      "  Batch 300, Loss: 0.0792\n"
     ]
    },
    {
     "name": "stderr",
     "output_type": "stream",
     "text": [
      "Epoch 4:  86%|████████▌ | 401/469 [01:25<00:14,  4.70it/s]"
     ]
    },
    {
     "name": "stdout",
     "output_type": "stream",
     "text": [
      "  Batch 400, Loss: 0.0511\n"
     ]
    },
    {
     "name": "stderr",
     "output_type": "stream",
     "text": [
      "Epoch 4: 100%|██████████| 469/469 [01:40<00:00,  4.69it/s]\n"
     ]
    },
    {
     "name": "stdout",
     "output_type": "stream",
     "text": [
      "Epoch 4 Completed — Avg Loss: 0.0753\n"
     ]
    },
    {
     "name": "stderr",
     "output_type": "stream",
     "text": [
      "Epoch 5:   0%|          | 1/469 [00:00<01:38,  4.74it/s]"
     ]
    },
    {
     "name": "stdout",
     "output_type": "stream",
     "text": [
      "  Batch 0, Loss: 0.1269\n"
     ]
    },
    {
     "name": "stderr",
     "output_type": "stream",
     "text": [
      "Epoch 5:  22%|██▏       | 101/469 [00:24<01:28,  4.14it/s]"
     ]
    },
    {
     "name": "stdout",
     "output_type": "stream",
     "text": [
      "  Batch 100, Loss: 0.0213\n"
     ]
    },
    {
     "name": "stderr",
     "output_type": "stream",
     "text": [
      "Epoch 5:  43%|████▎     | 201/469 [00:47<01:00,  4.44it/s]"
     ]
    },
    {
     "name": "stdout",
     "output_type": "stream",
     "text": [
      "  Batch 200, Loss: 0.1475\n"
     ]
    },
    {
     "name": "stderr",
     "output_type": "stream",
     "text": [
      "Epoch 5:  64%|██████▍   | 301/469 [01:10<00:38,  4.38it/s]"
     ]
    },
    {
     "name": "stdout",
     "output_type": "stream",
     "text": [
      "  Batch 300, Loss: 0.0420\n"
     ]
    },
    {
     "name": "stderr",
     "output_type": "stream",
     "text": [
      "Epoch 5:  86%|████████▌ | 401/469 [01:34<00:15,  4.29it/s]"
     ]
    },
    {
     "name": "stdout",
     "output_type": "stream",
     "text": [
      "  Batch 400, Loss: 0.0324\n"
     ]
    },
    {
     "name": "stderr",
     "output_type": "stream",
     "text": [
      "Epoch 5: 100%|██████████| 469/469 [01:50<00:00,  4.25it/s]\n"
     ]
    },
    {
     "name": "stdout",
     "output_type": "stream",
     "text": [
      "Epoch 5 Completed — Avg Loss: 0.0625\n"
     ]
    },
    {
     "data": {
      "image/png": "[encoded data removed]",
      "text/plain": [
       "<Figure size 800x500 with 1 Axes>"
      ]
     },
     "metadata": {},
     "output_type": "display_data"
    }
   ],
   "source": [
    "from tqdm import tqdm\n",
    "\n",
    "net = SNNModel().to(device)\n",
    "optimizer = torch.optim.Adam(net.parameters(), lr=1e-3)\n",
    "loss_fn = nn.CrossEntropyLoss()\n",
    "\n",
    "\n",
    "loss_history = []\n",
    "\n",
    "for epoch in range(num_epochs):\n",
    "    net.train()\n",
    "    running_loss = 0.0\n",
    "\n",
    "    for i, (images, labels) in enumerate(tqdm(train_loader, desc=f\"Epoch {epoch+1}\")):\n",
    "        images = images.to(device)\n",
    "        labels = labels.to(device)\n",
    "\n",
    "        \n",
    "        spk_in = poisson_spike_encoding(images, num_steps=num_steps)  \n",
    "\n",
    "       \n",
    "        spk_out = net(spk_in, num_steps=num_steps)  \n",
    "\n",
    "        \n",
    "        spk_out_count = spk_out.sum(dim=0)\n",
    "\n",
    "        #Loss computation (Cross Entropy expects raw scoores with integer labels and is good for classification)\n",
    "        loss_val = loss_fn(spk_out_count, labels)\n",
    "\n",
    "        #Backprop\n",
    "        optimizer.zero_grad()\n",
    "        loss_val.backward()\n",
    "        optimizer.step()\n",
    "\n",
    "        running_loss += loss_val.item()\n",
    "\n",
    "        if i % 100 == 0:\n",
    "            print(f\"  Batch {i}, Loss: {loss_val.item():.4f}\")\n",
    "\n",
    "    avg_loss = running_loss / len(train_loader)\n",
    "    loss_history.append(avg_loss)\n",
    "    print(f\"Epoch {epoch+1} Completed — Avg Loss: {avg_loss:.4f}\")\n",
    "\n",
    "# Ploting the training loss --- Assumed to follow a decaying convex up curve for good model (source D2L.ai)\n",
    "plt.figure(figsize=(8, 5))\n",
    "plt.plot(range(1, num_epochs + 1), loss_history, marker='o', linestyle='-')\n",
    "plt.title(\"SNN Training Loss Curve\")\n",
    "plt.xlabel(\"Epoch\")\n",
    "plt.ylabel(\"Average Loss\")\n",
    "plt.grid(True)\n",
    "plt.tight_layout()\n",
    "plt.show()\n"
   ]
  },
  {
   "cell_type": "markdown",
   "id": "26cc806c",
   "metadata": {},
   "source": [
    "+ Training for 5 epochs only gave good progress.. similar to ANN (97.5% accuray) even without neuromorphic hardware."
   ]
  },
  {
   "cell_type": "code",
   "execution_count": 14,
   "id": "0f0895ed",
   "metadata": {},
   "outputs": [
    {
     "name": "stdout",
     "output_type": "stream",
     "text": [
      "Test Accuracy: 97.59%\n"
     ]
    }
   ],
   "source": [
    "def evaluate(net, test_loader, num_steps=100):\n",
    "    net.eval()\n",
    "    correct = 0\n",
    "    total = 0\n",
    "\n",
    "    with torch.no_grad():\n",
    "        for images, labels in test_loader:\n",
    "            images = images.to(device)\n",
    "            labels = labels.to(device)\n",
    "\n",
    "            spk_in = poisson_spike_encoding(images, num_steps)\n",
    "            spk_out = net(spk_in, num_steps)\n",
    "            spk_out_count = spk_out.sum(dim=0)\n",
    "\n",
    "            predicted = spk_out_count.argmax(1)\n",
    "            correct += (predicted == labels).sum().item()\n",
    "            total += labels.size(0)\n",
    "\n",
    "    acc = 100 * correct / total\n",
    "    print(f\"Test Accuracy: {acc:.2f}%\")\n",
    "\n",
    "evaluate(net, test_loader)\n"
   ]
  },
  {
   "cell_type": "markdown",
   "id": "fe4f816d",
   "metadata": {},
   "source": [
    "### Takeaways:"
   ]
  },
  {
   "cell_type": "markdown",
   "id": "dbec2270",
   "metadata": {},
   "source": [
    "+ Despite SNN being theoretically better than ANN, we say how SNN performs almost similar to ANN in terms of speed and accuracy and power draw.\n",
    "+ However this is a good thing that even without neuormorphic chips (native for SNN), we get such good performance\n",
    "+ This practice helps us understand how our real brain works on such low power (our brain is neuromorphically modified)"
   ]
  },
  {
   "cell_type": "code",
   "execution_count": 15,
   "id": "49151603",
   "metadata": {},
   "outputs": [
    {
     "data": {
      "image/png": "[encoded data removed]",
      "text/plain": [
       "<Figure size 640x480 with 1 Axes>"
      ]
     },
     "metadata": {},
     "output_type": "display_data"
    },
    {
     "data": {
      "text/html": [
       "<video controls  >\n",
       " <source src=\"data:video/mp4;base64,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\" type=\"video/mp4\">\n",
       " Your browser does not support the video tag.\n",
       " </video>"
      ],
      "text/plain": [
       "<IPython.core.display.Video object>"
      ]
     },
     "metadata": {},
     "output_type": "display_data"
    }
   ],
   "source": [
    "import matplotlib.pyplot as plt\n",
    "import matplotlib.animation as animation\n",
    "from IPython.display import Video, display\n",
    "import random\n",
    "\n",
    "\n",
    "images, labels = next(iter(test_loader))\n",
    "idx = random.randint(0, images.shape[0] - 1)\n",
    "test_img = images[idx].unsqueeze(0).to(device) \n",
    "true_label = labels[idx].item()\n",
    "\n",
    "# Display the selected one test image\n",
    "plt.imshow(test_img.squeeze().cpu(), cmap='gray')\n",
    "plt.title(f\"Test Image — True Label: {true_label}\")\n",
    "plt.axis('off')\n",
    "plt.show()\n",
    "\n",
    "# Poisson encode the test image to pass it in the SNN model\n",
    "test_spikes = poisson_spike_encoding(test_img, num_steps=100)  # [nuim_steps, 1, 1, 28, 28]\n",
    "\n",
    "# Running through SNN\n",
    "spk_rec = net(test_spikes.to(device), num_steps=100).squeeze(1).detach().cpu()  \n",
    "\n",
    "# Spike count animation(found this snippet in a kaggle notebook)\n",
    "fig, ax = plt.subplots(figsize=(10, 6))\n",
    "bars = ax.bar(range(10), [0]*10, tick_label=list(range(10)))\n",
    "ax.set_ylim(0, 250)  \n",
    "ax.set_title(f\"Spike Activity Over Time — True Label: {true_label}\")\n",
    "ax.set_ylabel(\"Spike Count\")\n",
    "ax.set_xlabel(\"Class\")\n",
    "\n",
    "def update(frame):\n",
    "    for i, b in enumerate(bars):\n",
    "        b.set_height(spk_rec[:frame+1, i].sum().item())\n",
    "    return bars\n",
    "\n",
    "ani = animation.FuncAnimation(fig, update, frames=100, blit=False, interval=100)\n",
    "\n",
    "\n",
    "# Save & Display Inline\n",
    "video_path = \"spike_activity.mp4\"\n",
    "ani.save(video_path, writer='ffmpeg', fps=5)\n",
    "plt.close()\n",
    "display(Video(video_path, embed=True))\n"
   ]
  },
  {
   "cell_type": "markdown",
   "id": "e8fb72a9",
   "metadata": {},
   "source": [
    "+ This tool for visualization was inspired by [this notebook!](https://www.kaggle.com/code/khoahongg/classify-n-mnist-with-spiking-neural-network/notebook)\n",
    "\n",
    "+ Try running this block without training the model (i.e at 11% accuracy) as well :P\n",
    "\n",
    "+ We see that we recieve output spikes for other labels as well (apart from true label) as our true digit is partly similar to other digits as well"
   ]
  },
  {
   "cell_type": "markdown",
   "id": "3be48193",
   "metadata": {},
   "source": [
    "### Resources used:"
   ]
  },
  {
   "cell_type": "markdown",
   "id": "8b81e1a4",
   "metadata": {},
   "source": [
    "1. I came to know of SNN through a video of Jason Eshraghian (Lead developer of SNN torch). I've self curated a [playlist](https://www.youtube.com/playlist?list=PLtO_DmDV5KcVWKdvM8ZEx_eti4dkX0lrt) of his tutorial to use SNNtorch.\n",
    "\n",
    "    + The extremely well curated [documentation of SNNtorch](https://snntorch.readthedocs.io/en/latest/tutorials/index.html)\n",
    "\n",
    "2. To understand the difference b/w ANN and SNN, the 3 types of harwares chronologically used in ML (neuromorphic being the latest) I highly recommed [this paper](https://oshears.github.io/adv-ml-2020-snn-project/report/Advanced_Machine_Learning_Project_Report.pdf) by \n",
    "\n"
   ]
  },
  {
   "cell_type": "markdown",
   "id": "7501e162",
   "metadata": {},
   "source": []
  }
 ],
 "metadata": {
  "kernelspec": {
   "display_name": "atari-py",
   "language": "python",
   "name": "python3"
  },
  "language_info": {
   "codemirror_mode": {
    "name": "ipython",
    "version": 3
   },
   "file_extension": ".py",
   "mimetype": "text/x-python",
   "name": "python",
   "nbconvert_exporter": "python",
   "pygments_lexer": "ipython3",
   "version": "3.13.5"
  }
 },
 "nbformat": 4,
 "nbformat_minor": 5
}
