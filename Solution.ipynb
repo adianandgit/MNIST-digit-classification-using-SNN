{
 "cells": [
  {
   "cell_type": "code",
   "execution_count": 13,
   "id": "b9a82b8d",
   "metadata": {},
   "outputs": [
    {
     "name": "stdout",
     "output_type": "stream",
     "text": [
      "Requirement already satisfied: snntorch in /home/aditya/Downloads/python-atari/atari-py/lib/python3.13/site-packages (0.9.4)\n",
      "Requirement already satisfied: torch in /home/aditya/Downloads/python-atari/atari-py/lib/python3.13/site-packages (2.7.1)\n",
      "Requirement already satisfied: torchvision in /home/aditya/Downloads/python-atari/atari-py/lib/python3.13/site-packages (0.22.1)\n",
      "Requirement already satisfied: matplotlib in /home/aditya/Downloads/python-atari/atari-py/lib/python3.13/site-packages (3.10.3)\n",
      "Requirement already satisfied: tqdm in /home/aditya/Downloads/python-atari/atari-py/lib/python3.13/site-packages (4.67.1)\n",
      "Requirement already satisfied: filelock in /home/aditya/Downloads/python-atari/atari-py/lib/python3.13/site-packages (from torch) (3.18.0)\n",
      "Requirement already satisfied: typing-extensions>=4.10.0 in /home/aditya/Downloads/python-atari/atari-py/lib/python3.13/site-packages (from torch) (4.13.2)\n",
      "Requirement already satisfied: setuptools in /home/aditya/Downloads/python-atari/atari-py/lib/python3.13/site-packages (from torch) (80.9.0)\n",
      "Requirement already satisfied: sympy>=1.13.3 in /home/aditya/Downloads/python-atari/atari-py/lib/python3.13/site-packages (from torch) (1.14.0)\n",
      "Requirement already satisfied: networkx in /home/aditya/Downloads/python-atari/atari-py/lib/python3.13/site-packages (from torch) (3.5)\n",
      "Requirement already satisfied: jinja2 in /home/aditya/Downloads/python-atari/atari-py/lib/python3.13/site-packages (from torch) (3.1.6)\n",
      "Requirement already satisfied: fsspec in /home/aditya/Downloads/python-atari/atari-py/lib/python3.13/site-packages (from torch) (2025.5.1)\n",
      "Requirement already satisfied: nvidia-cuda-nvrtc-cu12==12.6.77 in /home/aditya/Downloads/python-atari/atari-py/lib/python3.13/site-packages (from torch) (12.6.77)\n",
      "Requirement already satisfied: nvidia-cuda-runtime-cu12==12.6.77 in /home/aditya/Downloads/python-atari/atari-py/lib/python3.13/site-packages (from torch) (12.6.77)\n",
      "Requirement already satisfied: nvidia-cuda-cupti-cu12==12.6.80 in /home/aditya/Downloads/python-atari/atari-py/lib/python3.13/site-packages (from torch) (12.6.80)\n",
      "Requirement already satisfied: nvidia-cudnn-cu12==9.5.1.17 in /home/aditya/Downloads/python-atari/atari-py/lib/python3.13/site-packages (from torch) (9.5.1.17)\n",
      "Requirement already satisfied: nvidia-cublas-cu12==12.6.4.1 in /home/aditya/Downloads/python-atari/atari-py/lib/python3.13/site-packages (from torch) (12.6.4.1)\n",
      "Requirement already satisfied: nvidia-cufft-cu12==11.3.0.4 in /home/aditya/Downloads/python-atari/atari-py/lib/python3.13/site-packages (from torch) (11.3.0.4)\n",
      "Requirement already satisfied: nvidia-curand-cu12==10.3.7.77 in /home/aditya/Downloads/python-atari/atari-py/lib/python3.13/site-packages (from torch) (10.3.7.77)\n",
      "Requirement already satisfied: nvidia-cusolver-cu12==11.7.1.2 in /home/aditya/Downloads/python-atari/atari-py/lib/python3.13/site-packages (from torch) (11.7.1.2)\n",
      "Requirement already satisfied: nvidia-cusparse-cu12==12.5.4.2 in /home/aditya/Downloads/python-atari/atari-py/lib/python3.13/site-packages (from torch) (12.5.4.2)\n",
      "Requirement already satisfied: nvidia-cusparselt-cu12==0.6.3 in /home/aditya/Downloads/python-atari/atari-py/lib/python3.13/site-packages (from torch) (0.6.3)\n",
      "Requirement already satisfied: nvidia-nccl-cu12==2.26.2 in /home/aditya/Downloads/python-atari/atari-py/lib/python3.13/site-packages (from torch) (2.26.2)\n",
      "Requirement already satisfied: nvidia-nvtx-cu12==12.6.77 in /home/aditya/Downloads/python-atari/atari-py/lib/python3.13/site-packages (from torch) (12.6.77)\n",
      "Requirement already satisfied: nvidia-nvjitlink-cu12==12.6.85 in /home/aditya/Downloads/python-atari/atari-py/lib/python3.13/site-packages (from torch) (12.6.85)\n",
      "Requirement already satisfied: nvidia-cufile-cu12==1.11.1.6 in /home/aditya/Downloads/python-atari/atari-py/lib/python3.13/site-packages (from torch) (1.11.1.6)\n",
      "Requirement already satisfied: triton==3.3.1 in /home/aditya/Downloads/python-atari/atari-py/lib/python3.13/site-packages (from torch) (3.3.1)\n",
      "Requirement already satisfied: numpy in /home/aditya/Downloads/python-atari/atari-py/lib/python3.13/site-packages (from torchvision) (2.2.6)\n",
      "Requirement already satisfied: pillow!=8.3.*,>=5.3.0 in /home/aditya/Downloads/python-atari/atari-py/lib/python3.13/site-packages (from torchvision) (11.2.1)\n",
      "Requirement already satisfied: contourpy>=1.0.1 in /home/aditya/Downloads/python-atari/atari-py/lib/python3.13/site-packages (from matplotlib) (1.3.2)\n",
      "Requirement already satisfied: cycler>=0.10 in /home/aditya/Downloads/python-atari/atari-py/lib/python3.13/site-packages (from matplotlib) (0.12.1)\n",
      "Requirement already satisfied: fonttools>=4.22.0 in /home/aditya/Downloads/python-atari/atari-py/lib/python3.13/site-packages (from matplotlib) (4.58.1)\n",
      "Requirement already satisfied: kiwisolver>=1.3.1 in /home/aditya/Downloads/python-atari/atari-py/lib/python3.13/site-packages (from matplotlib) (1.4.8)\n",
      "Requirement already satisfied: packaging>=20.0 in /home/aditya/Downloads/python-atari/atari-py/lib/python3.13/site-packages (from matplotlib) (25.0)\n",
      "Requirement already satisfied: pyparsing>=2.3.1 in /home/aditya/Downloads/python-atari/atari-py/lib/python3.13/site-packages (from matplotlib) (3.2.3)\n",
      "Requirement already satisfied: python-dateutil>=2.7 in /home/aditya/Downloads/python-atari/atari-py/lib/python3.13/site-packages (from matplotlib) (2.9.0.post0)\n",
      "Requirement already satisfied: six>=1.5 in /home/aditya/Downloads/python-atari/atari-py/lib/python3.13/site-packages (from python-dateutil>=2.7->matplotlib) (1.17.0)\n",
      "Requirement already satisfied: mpmath<1.4,>=1.1.0 in /home/aditya/Downloads/python-atari/atari-py/lib/python3.13/site-packages (from sympy>=1.13.3->torch) (1.3.0)\n",
      "Requirement already satisfied: MarkupSafe>=2.0 in /home/aditya/Downloads/python-atari/atari-py/lib/python3.13/site-packages (from jinja2->torch) (3.0.2)\n",
      "Note: you may need to restart the kernel to use updated packages.\n"
     ]
    }
   ],
   "source": [
    "%pip install snntorch torch torchvision matplotlib tqdm"
   ]
  },
  {
   "cell_type": "markdown",
   "id": "e95bd5bd",
   "metadata": {},
   "source": [
    "### Task 1: Data Preprocessing (Spike Encoding)"
   ]
  },
  {
   "cell_type": "markdown",
   "id": "a3039f8e",
   "metadata": {},
   "source": [
    "#### 1.Download and preprocess the MNIST dataset."
   ]
  },
  {
   "cell_type": "markdown",
   "id": "69f248bd",
   "metadata": {},
   "source": [
    "+ Here I'm using SNNTORCH library developed by SNN researcher [Jason Eshraghian](https://www.jasoneshraghian.com/)\n",
    "\n",
    "+ At first we'll import the required libraries\n",
    "\n",
    "+ <span style=\"color:yellow\"> Here the matplotlib.animation is added to visualize the spike trains later...\n",
    "</span>\n"
   ]
  },
  {
   "cell_type": "code",
   "execution_count": 14,
   "id": "af2ffef4",
   "metadata": {},
   "outputs": [],
   "source": [
    "import snntorch as snn\n",
    "import snntorch.functional as SF\n",
    "import snntorch.surrogate as surrogate\n",
    "from snntorch import spikegen\n",
    "import torch.nn as nn\n",
    "import torch\n",
    "import torch.nn as nn\n",
    "import torchvision\n",
    "import torchvision.transforms as transforms\n",
    "import matplotlib.pyplot as plt\n",
    "import matplotlib.animation as animation"
   ]
  },
  {
   "cell_type": "markdown",
   "id": "49b6ba63",
   "metadata": {},
   "source": [
    "+ No GPU for me :P\n",
    "and that won't matter mostly as SNN is a third gen computing and requires very low energy and is robust on CPU as well..\n",
    "I'm using the Rate Method instead of temporal method. DOing Poisson rate encoding for 100 steps slows down the training process...\n",
    "\n",
    "+ I've used random seed 42 (the classic..)"
   ]
  },
  {
   "cell_type": "code",
   "execution_count": 15,
   "id": "434bca2d",
   "metadata": {},
   "outputs": [],
   "source": [
    "import numpy as np\n",
    "np.random.seed(42)\n",
    "device = torch.device(\"cuda\" if torch.cuda.is_available() else \"cpu\")\n"
   ]
  },
  {
   "cell_type": "markdown",
   "id": "878500c4",
   "metadata": {},
   "source": [
    ">As mentioned earlier.. rate encoding steps are taken to be 10\n",
    "\n",
    "\n",
    " (more the merrier but training time increases dramatically)\n",
    "\n",
    "\n",
    "the 60,000 MNIST image datasets would be trained in batches of 128\n"
   ]
  },
  {
   "cell_type": "code",
   "execution_count": 16,
   "id": "063b64e0",
   "metadata": {},
   "outputs": [],
   "source": [
    "num_steps = 10\n",
    "num_epochs=5       # Time steps for spike simulation\n",
    "batch_size = 128\n",
    "learning_rate = 1e-3\n",
    "num_classes = 10 # constant for this problem.. classes being labels from 0 to 9 (both inclusive)\n"
   ]
  },
  {
   "cell_type": "markdown",
   "id": "0ce832a2",
   "metadata": {},
   "source": [
    "+ Here we are importing MNIST images dataset in .data folder for training (60,000) and testing (10,000)\n",
    "\n",
    "+ I am using torch dataset and transforms provided by pytorch as it has the compose method which makes all the preprocessing code fit in one line"
   ]
  },
  {
   "cell_type": "code",
   "execution_count": 17,
   "id": "68f91706",
   "metadata": {},
   "outputs": [],
   "source": [
    "transform = transforms.Compose([transforms.ToTensor()])\n",
    "\n",
    "train_data = torchvision.datasets.MNIST(root='./data', train=True, transform=transform, download=True)\n",
    "test_data = torchvision.datasets.MNIST(root='./data', train=False, transform=transform)\n",
    "\n",
    "train_loader = torch.utils.data.DataLoader(train_data, batch_size=batch_size, shuffle=True)\n",
    "test_loader = torch.utils.data.DataLoader(test_data, batch_size=batch_size, shuffle=False)\n"
   ]
  },
  {
   "cell_type": "markdown",
   "id": "12385644",
   "metadata": {},
   "source": [
    "#### 2.Implement Poisson rate coding to convert pixel intensities into spike trains. Higher pixel intensities should correspond to higher firing rates."
   ]
  },
  {
   "cell_type": "markdown",
   "id": "4cd31c6f",
   "metadata": {},
   "source": [
    ">This is a crazy thing and crux of our model so We'll read and explain this carefully:\n",
    "\n",
    "+ First of all we input images and num_steps to the function to give us a tensor \n",
    "'(num_steps,batch_size,1,28,28)'  \n",
    "+ <span style=\"color:orange\"><em>\n",
    "This type of tensor size would make sense after visualizing it</em></span>\n",
    "+ All it does is,\n",
    "  + it input an image batch of batch size being primitive size of image tensor input.\n",
    " Hence we use `batch_size = images.shape[0]`\n",
    "  + then for an image of size 28x28, it creates a tensor of size num_stepsx28x28 for each pixel in any image.. its intensity determines the rate at which a spike is fired (Again, if this is harder to grab.. see the visualization part)\n"
   ]
  },
  {
   "cell_type": "code",
   "execution_count": 18,
   "id": "77398ba9",
   "metadata": {},
   "outputs": [],
   "source": [
    "def poisson_spike_encoding(images, num_steps=100):\n",
    "\n",
    "    batch_size = images.shape[0]\n",
    "    image_shape = images.shape[1:]\n",
    "    \n",
    "    rand_vals = torch.rand((num_steps, batch_size, *image_shape), device=images.device)\n",
    "    spike_trains = rand_vals < images.unsqueeze(0)\n",
    "    \n",
    "    return spike_trains.float()\n"
   ]
  },
  {
   "cell_type": "markdown",
   "id": "c6fe3b26",
   "metadata": {},
   "source": [
    "#### 3.Visualize sample input spike patterns for various digits to verify that encoding is working correctly."
   ]
  },
  {
   "cell_type": "markdown",
   "id": "40b136d8",
   "metadata": {},
   "source": [
    "**I have loaded an MNIST image of class 1  to give some insights**\n",
    "Also I've plotted the cell grid in MNIST to "
   ]
  },
  {
   "cell_type": "code",
   "execution_count": 19,
   "id": "fd3aeb57",
   "metadata": {},
   "outputs": [
    {
     "data": {
      "image/png": "[encoded data removed]",
      "text/plain": [
       "<Figure size 600x600 with 1 Axes>"
      ]
     },
     "metadata": {},
     "output_type": "display_data"
    }
   ],
   "source": [
    "choice=1\n",
    "dataiter = iter(train_loader)\n",
    "images, labels = next(dataiter)\n",
    "images, labels = images.to(device), labels.to(device)\n",
    "zero_index = (labels == choice).nonzero(as_tuple=True)[0][0]\n",
    "image_zero = images[zero_index].unsqueeze(0)  \n",
    "\n",
    "\n",
    "fig, ax = plt.subplots(figsize=(6, 6))\n",
    "image_data = image_zero[0, 0].cpu().numpy()\n",
    "table = ax.imshow(image_data, cmap='Blues', vmin=0, vmax=1)\n",
    "\n",
    "# Adding to show all the pixel values as text on a grid like strudcture\n",
    "for i in range(28):\n",
    "    for j in range(28):\n",
    "        val = image_data[i, j]\n",
    "        ax.text(j, i, f\"{val:.2f}\", ha=\"center\", va=\"center\",\n",
    "                color=\"white\" if val > 0.5 else \"black\", fontsize=5)\n",
    "\n",
    "ax.set_title(\"Digit: 1 - Pixel Intensities\")\n",
    "ax.axis('off')\n",
    "plt.show()"
   ]
  },
  {
   "cell_type": "markdown",
   "id": "67b09021",
   "metadata": {},
   "source": [
    "+ Loads digit 1 image from MNIST data set and performs poisson encoding on it..\n",
    "+ We use digit 1 because most of bright pixels are located at middle column hence if we arrange the 28x28 array as a 1-D 784 array.. we get a bright pixel periodically with period 28..\n",
    "+ Now when we plot the poisson spike train... we see the claim that for 10 time steps... the pixels after 150 fire almost always with period of 28 (as every 28th pixel is brigh in image of 1)"
   ]
  },
  {
   "cell_type": "code",
   "execution_count": 20,
   "id": "470eb94c",
   "metadata": {},
   "outputs": [
    {
     "data": {
      "image/png": "[encoded data removed]",
      "text/plain": [
       "<Figure size 1000x400 with 1 Axes>"
      ]
     },
     "metadata": {},
     "output_type": "display_data"
    }
   ],
   "source": [
    "# Generate possion spikes for digit one\n",
    "spike_trains = poisson_spike_encoding(image_zero, num_steps=num_steps)  # shape: (num_steps, 1, 1, 28, 28) as explained above\n",
    "\n",
    "# Plot spike analysis for digit 1..\n",
    "fig, ax = plt.subplots(figsize=(10, 4))\n",
    "raster = spike_trains[:, 0, 0].reshape(num_steps, -1).cpu().numpy()\n",
    "ax.imshow(raster, cmap='Greys', aspect='auto')\n",
    "ax.set_title(\"Poisson Spikes for Digit: \" + str(choice))\n",
    "ax.set_xlabel(\"Flattened Pixel Index\")\n",
    "ax.set_ylabel(\"Time Step\")\n",
    "plt.show()\n"
   ]
  },
  {
   "cell_type": "code",
   "execution_count": 21,
   "id": "49ed1ee1",
   "metadata": {},
   "outputs": [
    {
     "data": {
      "image/gif": "[encoded data removed]",
      "text/plain": [
       "<IPython.core.display.Image object>"
      ]
     },
     "metadata": {},
     "output_type": "display_data"
    }
   ],
   "source": [
    "from IPython.display import Image, display\n",
    "\n",
    "spikes = spike_trains[:, 0, 0].cpu().numpy()  # (num_steps, 28, 28)\n",
    "\n",
    "fig, ax = plt.subplots(figsize=(4, 4))\n",
    "im = ax.imshow(spikes[0], cmap='gray', vmin=0, vmax=1)\n",
    "ax.axis('off')\n",
    "\n",
    "def update(t):\n",
    "    im.set_array(spikes[t])\n",
    "    ax.set_title(f'Time Step: {t}')\n",
    "    return [im]\n",
    "\n",
    "ani = animation.FuncAnimation(fig, update, frames=num_steps, interval=50, blit=True)\n",
    "\n",
    "# Save GIF locally and also to display it in notebook\n",
    "gif_path = \"mnist_spike_flash.gif\"\n",
    "ani.save(gif_path, writer='pillow', fps=5)\n",
    "plt.close(fig)\n",
    "\n",
    "# display inline in notebook!\n",
    "display(Image(filename=gif_path))"
   ]
  },
  {
   "cell_type": "markdown",
   "id": "4da5d089",
   "metadata": {},
   "source": [
    "+ This is a simulation of how the network sees the image as spike table.. the boundary pixels flicker because their intensity is around 0.7-0.8 but the middle pixels never flicker as they are extremely bright and are fired everytime."
   ]
  },
  {
   "cell_type": "markdown",
   "id": "9b51864b",
   "metadata": {},
   "source": [
    "### Task 2: SNN Model Implementation (all done in same codeblock)"
   ]
  },
  {
   "cell_type": "markdown",
   "id": "7c3f7603",
   "metadata": {},
   "source": [
    "#### 1.Design a 3-layer SNN architecture:\n"
   ]
  },
  {
   "cell_type": "markdown",
   "id": "ea8330eb",
   "metadata": {},
   "source": [
    "We define a 3 layer SNN architecture having:\n",
    "+ Input layer to recieve the spike trains.\n",
    "+ Hidden Layer\n",
    "+ Output layer(Corresponding to digit class 0-9)"
   ]
  },
  {
   "cell_type": "markdown",
   "id": "a17e9a1d",
   "metadata": {},
   "source": [
    "#### 2.Implement the Leaky Integrate-and-Fire (LIF) neuron model"
   ]
  },
  {
   "cell_type": "markdown",
   "id": "7297d62d",
   "metadata": {},
   "source": [
    "+ **Membrane potential dynamics with leakage**: snn.leaky models Leaky-Integrate-fire neurons where the potential across a membrane decays(leaks) if there is no input.\n",
    "\n",
    "+ **Threshold-based spike generation**: \n",
    "    ```\n",
    "    spk1, mem1 = self.lif1(cur1, mem1)\n",
    "    spk2, mem2 = self.lif2(cur2, mem2)\n",
    "    ```\n",
    "    The spk1 and spk2 are binary values triggered to 1 only if threshold is crossed\n",
    "\n",
    "+ **Reset mechanism after firing**: Implemented automatically in SNNtorch\n",
    "\n",
    "+ **Learning method**: Supervised learning with surrogate gradients is used \n",
    "\n",
    "    `self.lif2 = snn.Leaky(beta=0.95, spike_grad=surrogate.fast_sigmoid())`"
   ]
  },
  {
   "cell_type": "code",
   "execution_count": 22,
   "id": "bd626671",
   "metadata": {},
   "outputs": [],
   "source": [
    "\n",
    "class SNNModel(nn.Module):\n",
    "    def __init__(self):\n",
    "        super().__init__()\n",
    "        self.flatten = nn.Flatten()\n",
    "\n",
    "        self.fc1 = nn.Linear(28 * 28, 512)\n",
    "        self.lif1 = snn.Leaky(beta=0.95, spike_grad=surrogate.fast_sigmoid()) # SNN torch enables us to do the encoding b/w layers and define forward later\n",
    "\n",
    "        self.fc2 = nn.Linear(512, 10)\n",
    "        self.lif2 = snn.Leaky(beta=0.95, spike_grad=surrogate.fast_sigmoid()) #Lif model implemented in SNNtorch\n",
    "\n",
    "    def forward(self, x, num_steps=100):\n",
    "        mem1 = self.lif1.init_leaky()\n",
    "        mem2 = self.lif2.init_leaky()\n",
    "\n",
    "        spk2_rec = []\n",
    "\n",
    "        for step in range(num_steps):\n",
    "            x_t = x[step]\n",
    "            x_t = self.flatten(x_t)\n",
    "\n",
    "            cur1 = self.fc1(x_t)\n",
    "            spk1, mem1 = self.lif1(cur1, mem1)\n",
    "\n",
    "            cur2 = self.fc2(spk1)\n",
    "            spk2, mem2 = self.lif2(cur2, mem2)\n",
    "\n",
    "            spk2_rec.append(spk2)\n",
    "\n",
    "        return torch.stack(spk2_rec)\n",
    "\n",
    "net = SNNModel().to(device)\n"
   ]
  },
  {
   "cell_type": "markdown",
   "id": "051e8e23",
   "metadata": {},
   "source": [
    "### Task 3: Training and Evaluation"
   ]
  },
  {
   "cell_type": "markdown",
   "id": "0666f62f",
   "metadata": {},
   "source": [
    "> I've came to know about tqdm to add progress bar into loops :P so why not use it!!\n",
    "\n",
    "+ I've trained the SNN using Surrogate gradient descent\n",
    "+ As a loss ftn I've used cross Entropy loss as it is good for classification problems. It implements the idea for probnability. Learn more on it [here!](https://docs.pytorch.org/docs/stable/generated/torch.nn.CrossEntropyLoss.html)\n"
   ]
  },
  {
   "cell_type": "code",
   "execution_count": 23,
   "id": "4c430aef",
   "metadata": {},
   "outputs": [
    {
     "name": "stderr",
     "output_type": "stream",
     "text": [
      "Epoch 1:   1%|          | 3/469 [00:00<00:16, 27.92it/s]"
     ]
    },
    {
     "name": "stdout",
     "output_type": "stream",
     "text": [
      "  Batch 0, Loss: 2.2984\n"
     ]
    },
    {
     "name": "stderr",
     "output_type": "stream",
     "text": [
      "Epoch 1:  23%|██▎       | 107/469 [00:02<00:07, 49.44it/s]"
     ]
    },
    {
     "name": "stdout",
     "output_type": "stream",
     "text": [
      "  Batch 100, Loss: 0.3509\n"
     ]
    },
    {
     "name": "stderr",
     "output_type": "stream",
     "text": [
      "Epoch 1:  45%|████▍     | 210/469 [00:04<00:05, 45.06it/s]"
     ]
    },
    {
     "name": "stdout",
     "output_type": "stream",
     "text": [
      "  Batch 200, Loss: 0.2324\n"
     ]
    },
    {
     "name": "stderr",
     "output_type": "stream",
     "text": [
      "Epoch 1:  65%|██████▌   | 306/469 [00:07<00:04, 39.32it/s]"
     ]
    },
    {
     "name": "stdout",
     "output_type": "stream",
     "text": [
      "  Batch 300, Loss: 0.1351\n"
     ]
    },
    {
     "name": "stderr",
     "output_type": "stream",
     "text": [
      "Epoch 1:  87%|████████▋ | 410/469 [00:09<00:01, 48.30it/s]"
     ]
    },
    {
     "name": "stdout",
     "output_type": "stream",
     "text": [
      "  Batch 400, Loss: 0.0567\n"
     ]
    },
    {
     "name": "stderr",
     "output_type": "stream",
     "text": [
      "Epoch 1: 100%|██████████| 469/469 [00:10<00:00, 44.72it/s]\n"
     ]
    },
    {
     "name": "stdout",
     "output_type": "stream",
     "text": [
      "Epoch 1 Completed — Avg Loss: 0.3168\n"
     ]
    },
    {
     "name": "stderr",
     "output_type": "stream",
     "text": [
      "Epoch 2:   1%|          | 4/469 [00:00<00:12, 37.74it/s]"
     ]
    },
    {
     "name": "stdout",
     "output_type": "stream",
     "text": [
      "  Batch 0, Loss: 0.1080\n"
     ]
    },
    {
     "name": "stderr",
     "output_type": "stream",
     "text": [
      "Epoch 2:  23%|██▎       | 108/469 [00:02<00:07, 47.35it/s]"
     ]
    },
    {
     "name": "stdout",
     "output_type": "stream",
     "text": [
      "  Batch 100, Loss: 0.1577\n"
     ]
    },
    {
     "name": "stderr",
     "output_type": "stream",
     "text": [
      "Epoch 2:  43%|████▎     | 204/469 [00:04<00:07, 36.14it/s]"
     ]
    },
    {
     "name": "stdout",
     "output_type": "stream",
     "text": [
      "  Batch 200, Loss: 0.1766\n"
     ]
    },
    {
     "name": "stderr",
     "output_type": "stream",
     "text": [
      "Epoch 2:  66%|██████▌   | 308/469 [00:06<00:03, 51.51it/s]"
     ]
    },
    {
     "name": "stdout",
     "output_type": "stream",
     "text": [
      "  Batch 300, Loss: 0.1053\n"
     ]
    },
    {
     "name": "stderr",
     "output_type": "stream",
     "text": [
      "Epoch 2:  86%|████████▌ | 404/469 [00:08<00:01, 53.97it/s]"
     ]
    },
    {
     "name": "stdout",
     "output_type": "stream",
     "text": [
      "  Batch 400, Loss: 0.1434\n"
     ]
    },
    {
     "name": "stderr",
     "output_type": "stream",
     "text": [
      "Epoch 2: 100%|██████████| 469/469 [00:10<00:00, 44.64it/s]\n"
     ]
    },
    {
     "name": "stdout",
     "output_type": "stream",
     "text": [
      "Epoch 2 Completed — Avg Loss: 0.1248\n"
     ]
    },
    {
     "name": "stderr",
     "output_type": "stream",
     "text": [
      "Epoch 3:   1%|          | 4/469 [00:00<00:13, 34.87it/s]"
     ]
    },
    {
     "name": "stdout",
     "output_type": "stream",
     "text": [
      "  Batch 0, Loss: 0.1229\n"
     ]
    },
    {
     "name": "stderr",
     "output_type": "stream",
     "text": [
      "Epoch 3:  23%|██▎       | 106/469 [00:01<00:06, 54.24it/s]"
     ]
    },
    {
     "name": "stdout",
     "output_type": "stream",
     "text": [
      "  Batch 100, Loss: 0.0550\n"
     ]
    },
    {
     "name": "stderr",
     "output_type": "stream",
     "text": [
      "Epoch 3:  45%|████▍     | 210/469 [00:04<00:04, 56.88it/s]"
     ]
    },
    {
     "name": "stdout",
     "output_type": "stream",
     "text": [
      "  Batch 200, Loss: 0.0910\n"
     ]
    },
    {
     "name": "stderr",
     "output_type": "stream",
     "text": [
      "Epoch 3:  67%|██████▋   | 312/469 [00:06<00:02, 54.51it/s]"
     ]
    },
    {
     "name": "stdout",
     "output_type": "stream",
     "text": [
      "  Batch 300, Loss: 0.0575\n"
     ]
    },
    {
     "name": "stderr",
     "output_type": "stream",
     "text": [
      "Epoch 3:  87%|████████▋ | 408/469 [00:07<00:01, 58.11it/s]"
     ]
    },
    {
     "name": "stdout",
     "output_type": "stream",
     "text": [
      "  Batch 400, Loss: 0.1034\n"
     ]
    },
    {
     "name": "stderr",
     "output_type": "stream",
     "text": [
      "Epoch 3: 100%|██████████| 469/469 [00:08<00:00, 53.15it/s]\n"
     ]
    },
    {
     "name": "stdout",
     "output_type": "stream",
     "text": [
      "Epoch 3 Completed — Avg Loss: 0.0954\n"
     ]
    },
    {
     "name": "stderr",
     "output_type": "stream",
     "text": [
      "Epoch 4:   1%|          | 5/469 [00:00<00:10, 44.55it/s]"
     ]
    },
    {
     "name": "stdout",
     "output_type": "stream",
     "text": [
      "  Batch 0, Loss: 0.0862\n"
     ]
    },
    {
     "name": "stderr",
     "output_type": "stream",
     "text": [
      "Epoch 4:  22%|██▏       | 103/469 [00:01<00:06, 57.72it/s]"
     ]
    },
    {
     "name": "stdout",
     "output_type": "stream",
     "text": [
      "  Batch 100, Loss: 0.0944\n"
     ]
    },
    {
     "name": "stderr",
     "output_type": "stream",
     "text": [
      "Epoch 4:  45%|████▍     | 210/469 [00:03<00:04, 57.88it/s]"
     ]
    },
    {
     "name": "stdout",
     "output_type": "stream",
     "text": [
      "  Batch 200, Loss: 0.0579\n"
     ]
    },
    {
     "name": "stderr",
     "output_type": "stream",
     "text": [
      "Epoch 4:  67%|██████▋   | 312/469 [00:05<00:02, 55.80it/s]"
     ]
    },
    {
     "name": "stdout",
     "output_type": "stream",
     "text": [
      "  Batch 300, Loss: 0.1390\n"
     ]
    },
    {
     "name": "stderr",
     "output_type": "stream",
     "text": [
      "Epoch 4:  87%|████████▋ | 408/469 [00:07<00:01, 48.92it/s]"
     ]
    },
    {
     "name": "stdout",
     "output_type": "stream",
     "text": [
      "  Batch 400, Loss: 0.0652\n"
     ]
    },
    {
     "name": "stderr",
     "output_type": "stream",
     "text": [
      "Epoch 4: 100%|██████████| 469/469 [00:08<00:00, 53.69it/s]\n"
     ]
    },
    {
     "name": "stdout",
     "output_type": "stream",
     "text": [
      "Epoch 4 Completed — Avg Loss: 0.0770\n"
     ]
    },
    {
     "name": "stderr",
     "output_type": "stream",
     "text": [
      "Epoch 5:   1%|          | 5/469 [00:00<00:10, 43.29it/s]"
     ]
    },
    {
     "name": "stdout",
     "output_type": "stream",
     "text": [
      "  Batch 0, Loss: 0.0977\n"
     ]
    },
    {
     "name": "stderr",
     "output_type": "stream",
     "text": [
      "Epoch 5:  23%|██▎       | 110/469 [00:02<00:07, 45.31it/s]"
     ]
    },
    {
     "name": "stdout",
     "output_type": "stream",
     "text": [
      "  Batch 100, Loss: 0.0616\n"
     ]
    },
    {
     "name": "stderr",
     "output_type": "stream",
     "text": [
      "Epoch 5:  44%|████▍     | 208/469 [00:04<00:05, 46.29it/s]"
     ]
    },
    {
     "name": "stdout",
     "output_type": "stream",
     "text": [
      "  Batch 200, Loss: 0.0591\n"
     ]
    },
    {
     "name": "stderr",
     "output_type": "stream",
     "text": [
      "Epoch 5:  66%|██████▌   | 308/469 [00:07<00:03, 43.77it/s]"
     ]
    },
    {
     "name": "stdout",
     "output_type": "stream",
     "text": [
      "  Batch 300, Loss: 0.0551\n"
     ]
    },
    {
     "name": "stderr",
     "output_type": "stream",
     "text": [
      "Epoch 5:  87%|████████▋ | 408/469 [00:09<00:01, 43.99it/s]"
     ]
    },
    {
     "name": "stdout",
     "output_type": "stream",
     "text": [
      "  Batch 400, Loss: 0.0578\n"
     ]
    },
    {
     "name": "stderr",
     "output_type": "stream",
     "text": [
      "Epoch 5: 100%|██████████| 469/469 [00:11<00:00, 42.10it/s]\n"
     ]
    },
    {
     "name": "stdout",
     "output_type": "stream",
     "text": [
      "Epoch 5 Completed — Avg Loss: 0.0671\n"
     ]
    },
    {
     "data": {
      "image/png": "[encoded data removed]",
      "text/plain": [
       "<Figure size 800x500 with 1 Axes>"
      ]
     },
     "metadata": {},
     "output_type": "display_data"
    }
   ],
   "source": [
    "from tqdm import tqdm\n",
    "\n",
    "\n",
    "optimizer = torch.optim.Adam(net.parameters(), lr=1e-3)\n",
    "loss_fn = nn.CrossEntropyLoss()\n",
    "\n",
    "\n",
    "loss_history = []\n",
    "\n",
    "for epoch in range(num_epochs):\n",
    "    net.train()\n",
    "    running_loss = 0.0\n",
    "\n",
    "    for i, (images, labels) in enumerate(tqdm(train_loader, desc=f\"Epoch {epoch+1}\")):\n",
    "        images = images.to(device)\n",
    "        labels = labels.to(device)\n",
    "\n",
    "        \n",
    "        spk_in = poisson_spike_encoding(images, num_steps=num_steps)  \n",
    "\n",
    "       \n",
    "        spk_out = net(spk_in, num_steps=num_steps)  \n",
    "\n",
    "        \n",
    "        spk_out_count = spk_out.sum(dim=0)\n",
    "\n",
    "        #Loss computation (Cross Entropy expects raw scoores with integer labels and is good for classification)\n",
    "        loss_val = loss_fn(spk_out_count, labels)\n",
    "\n",
    "        #Backprop\n",
    "        optimizer.zero_grad()\n",
    "        loss_val.backward()\n",
    "        optimizer.step()\n",
    "\n",
    "        running_loss += loss_val.item()\n",
    "\n",
    "        if i % 100 == 0:\n",
    "            print(f\"  Batch {i}, Loss: {loss_val.item():.4f}\")\n",
    "\n",
    "    avg_loss = running_loss / len(train_loader)\n",
    "    loss_history.append(avg_loss)\n",
    "    print(f\"Epoch {epoch+1} Completed — Avg Loss: {avg_loss:.4f}\")\n",
    "\n",
    "# Ploting the training loss --- Assumed to follow a decaying convex up curve for good model (source D2L.ai)\n",
    "plt.figure(figsize=(8, 5))\n",
    "plt.plot(range(1, num_epochs + 1), loss_history, marker='o', linestyle='-')\n",
    "plt.title(\"SNN Training Loss Curve\")\n",
    "plt.xlabel(\"Epoch\")\n",
    "plt.ylabel(\"Average Loss\")\n",
    "plt.grid(True)\n",
    "plt.tight_layout()\n",
    "plt.show()\n"
   ]
  },
  {
   "cell_type": "markdown",
   "id": "26cc806c",
   "metadata": {},
   "source": [
    "+ Training for 5 epochs only gave good progress.. similar to ANN (97.5% accuray) even without neuromorphic hardware."
   ]
  },
  {
   "cell_type": "code",
   "execution_count": 24,
   "id": "0f0895ed",
   "metadata": {},
   "outputs": [
    {
     "name": "stdout",
     "output_type": "stream",
     "text": [
      "Test Accuracy: 97.16%\n"
     ]
    }
   ],
   "source": [
    "def evaluate(net, test_loader, num_steps=100):\n",
    "    net.eval()\n",
    "    correct = 0\n",
    "    total = 0\n",
    "\n",
    "    with torch.no_grad():\n",
    "        for images, labels in test_loader:\n",
    "            images = images.to(device)\n",
    "            labels = labels.to(device)\n",
    "\n",
    "            spk_in = poisson_spike_encoding(images, num_steps)\n",
    "            spk_out = net(spk_in, num_steps)\n",
    "            spk_out_count = spk_out.sum(dim=0)\n",
    "\n",
    "            predicted = spk_out_count.argmax(1)\n",
    "            correct += (predicted == labels).sum().item()\n",
    "            total += labels.size(0)\n",
    "\n",
    "    acc = 100 * correct / total\n",
    "    print(f\"Test Accuracy: {acc:.2f}%\")\n",
    "\n",
    "evaluate(net, test_loader)\n"
   ]
  },
  {
   "cell_type": "markdown",
   "id": "fe4f816d",
   "metadata": {},
   "source": [
    "### Takeaways:"
   ]
  },
  {
   "cell_type": "markdown",
   "id": "dbec2270",
   "metadata": {},
   "source": [
    "+ Despite SNN being theoretically better than ANN, we say how SNN performs almost similar to ANN in terms of speed and accuracy and power draw.\n",
    "+ However this is a good thing that even without neuormorphic chips (native for SNN), we get such good performance\n",
    "+ This practice helps us understand how our real brain works on such low power (our brain is neuromorphically modified)"
   ]
  },
  {
   "cell_type": "code",
   "execution_count": null,
   "id": "49151603",
   "metadata": {},
   "outputs": [
    {
     "data": {
      "image/png": "[encoded data removed]",
      "text/plain": [
       "<Figure size 640x480 with 1 Axes>"
      ]
     },
     "metadata": {},
     "output_type": "display_data"
    },
    {
     "data": {
      "text/html": [
       "<video controls  >\n",
       " <source src=\"data:video/mp4;base64,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\" type=\"video/mp4\">\n",
       " Your browser does not support the video tag.\n",
       " </video>"
      ],
      "text/plain": [
       "<IPython.core.display.Video object>"
      ]
     },
     "metadata": {},
     "output_type": "display_data"
    }
   ],
   "source": [
    "import matplotlib.pyplot as plt\n",
    "import matplotlib.animation as animation\n",
    "from IPython.display import Video, display\n",
    "import random\n",
    "\n",
    "\n",
    "images, labels = next(iter(test_loader))\n",
    "idx = random.randint(0, images.shape[0] - 1)\n",
    "test_img = images[idx].unsqueeze(0).to(device) \n",
    "true_label = labels[idx].item()\n",
    "\n",
    "# Display the selected one test image\n",
    "plt.imshow(test_img.squeeze().cpu(), cmap='gray')\n",
    "plt.title(f\"Test Image — True Label: {true_label}\")\n",
    "plt.axis('off')\n",
    "plt.show()\n",
    "\n",
    "# Poisson encode the test image to pass it in the SNN model\n",
    "test_spikes = poisson_spike_encoding(test_img, num_steps=100)  # [nuim_steps, 1, 1, 28, 28]\n",
    "\n",
    "# Running through SNN\n",
    "spk_rec = net(test_spikes.to(device), num_steps=100).squeeze(1).detach().cpu()  \n",
    "\n",
    "# Spike count animation(found this snippet in a kaggle notebook)\n",
    "fig, ax = plt.subplots(figsize=(10, 6))\n",
    "bars = ax.bar(range(10), [0]*10, tick_label=list(range(10)))\n",
    "ax.set_ylim(0, 250)  \n",
    "ax.set_title(f\"Spike Activity Over Time — True Label: {true_label}\")\n",
    "ax.set_ylabel(\"Spike Count\")\n",
    "ax.set_xlabel(\"Class\")\n",
    "\n",
    "def update(frame):\n",
    "    for i, b in enumerate(bars):\n",
    "        b.set_height(spk_rec[:frame+1, i].sum().item())\n",
    "    return bars\n",
    "\n",
    "ani = animation.FuncAnimation(fig, update, frames=100, blit=False, interval=100)\n",
    "\n",
    "# Save & Display Inline\n",
    "video_path = \"spike_activity.mp4\"\n",
    "ani.save(video_path, writer='ffmpeg', fps=5)\n",
    "plt.close()\n",
    "display(Video(video_path, embed=True))\n"
   ]
  },
  {
   "cell_type": "markdown",
   "id": "e8fb72a9",
   "metadata": {},
   "source": [
    "+ This tool for visualization was inspired by [this notebook!](https://www.kaggle.com/code/khoahongg/classify-n-mnist-with-spiking-neural-network/notebook)\n",
    "\n",
    "+ Try running this block without training the model (i.e at 11% accuracy) as well :P\n",
    "\n",
    "+ We see that we recieve output spikes for other labels as well (apart from true label) as our true digit is partly similar to other digits as well"
   ]
  },
  {
   "cell_type": "markdown",
   "id": "3be48193",
   "metadata": {},
   "source": [
    "### Resources used:"
   ]
  },
  {
   "cell_type": "markdown",
   "id": "8b81e1a4",
   "metadata": {},
   "source": [
    "1. I came to know of SNN through a video of Jason Eshraghian (Lead developer of SNN torch). I've self curated a [playlist](https://www.youtube.com/playlist?list=PLtO_DmDV5KcVWKdvM8ZEx_eti4dkX0lrt) of his tutorial to use SNNtorch.\n",
    "\n",
    "    + The extremely well curated [documentation of SNNtorch](https://snntorch.readthedocs.io/en/latest/tutorials/index.html)\n",
    "\n",
    "2. To understand the difference b/w ANN and SNN, the 3 types of harwares chronologically used in ML (neuromorphic being the latest) I highly recommed [this paper](https://oshears.github.io/adv-ml-2020-snn-project/report/Advanced_Machine_Learning_Project_Report.pdf) by \n",
    "\n"
   ]
  },
  {
   "cell_type": "markdown",
   "id": "7501e162",
   "metadata": {},
   "source": []
  }
 ],
 "metadata": {
  "kernelspec": {
   "display_name": "atari-py",
   "language": "python",
   "name": "python3"
  },
  "language_info": {
   "codemirror_mode": {
    "name": "ipython",
    "version": 3
   },
   "file_extension": ".py",
   "mimetype": "text/x-python",
   "name": "python",
   "nbconvert_exporter": "python",
   "pygments_lexer": "ipython3",
   "version": "3.13.5"
  }
 },
 "nbformat": 4,
 "nbformat_minor": 5
}
